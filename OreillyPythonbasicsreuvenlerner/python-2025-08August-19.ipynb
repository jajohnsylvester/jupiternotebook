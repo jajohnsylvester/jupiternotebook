{
 "cells": [
  {
   "cell_type": "markdown",
   "metadata": {},
   "source": [
    "# Agenda, week 3:\n",
    "\n",
    "1. Q&A\n",
    "2. Dictionaries\n",
    "    - What they are?\n",
    "    - How to create them\n",
    "    - How to work with them\n",
    "    - How to iterate over dicts\n",
    "    - How dictionaries are implemented behind the scenes\n",
    "    - Three paradigms for dictionary use\n",
    "2. Files\n",
    "    - How to work with files - -opening them and reading from them\n",
    "    - How to take data in a file and turn it into Python data structures\n",
    "    - How to write to files\n",
    "    - The `with` construct, and why it's important when writing to files"
   ]
  },
  {
   "cell_type": "markdown",
   "metadata": {},
   "source": [
    "# Where do we stand?\n",
    "\n",
    "- Python uses lots of values, and each value has a different type\n",
    "- We can assign these values to variables, and then reuse them\n",
    "- The data structures we've used so far have been:\n",
    "    - Integers and floats (numbers)\n",
    "    - Strings (for text)\n",
    "    - Lists and tuples (for sequences of values)\n",
    "\n",
    "Many times, we don't want one piece of data. Many times, we want multiple pieces of data together, to be associated with one another.\n",
    "\n",
    "Dictionaries are a very high speed, easy to work with, and flexible data structure that takes care of one of the most important and common ways that we want to combine data, and that is a name-value pair or a key-value pair."
   ]
  },
  {
   "cell_type": "markdown",
   "metadata": {},
   "source": [
    "# What is a dictionary?\n",
    "\n",
    "What we call a dictionary in Python (or a `dict`) is not new to Python. It's in many programming langauges, but usually with other names:\n",
    "\n",
    "- Hash tables\n",
    "- Hashes\n",
    "- Hash maps\n",
    "- Maps\n",
    "- Key-value stores\n",
    "- Name-value stores\n",
    "- Associative arrays\n",
    "\n",
    "The basic idea is that we have *pairs* of data, not just individual values. In a dict, we have control over not only the values, but also the keys (i.e., the indexes) that we use to retrieve them. In this way, we can have a key-value pair that isn't a random integer that just happened to be assigned to it. We can control it.\n",
    "\n"
   ]
  },
  {
   "cell_type": "code",
   "execution_count": 2,
   "metadata": {},
   "outputs": [],
   "source": [
    "# use curly braces to create a dict\n",
    "# each key-value pair in a dict has key:value syntax\n",
    "# each pair is separated from other pairs with ,\n",
    "\n",
    "d = {}   # empty dictionary"
   ]
  },
  {
   "cell_type": "code",
   "execution_count": 3,
   "metadata": {},
   "outputs": [],
   "source": [
    "d = {'a':10, 'b':20, 'c':30}  # dict with three key-value pairs"
   ]
  },
  {
   "cell_type": "code",
   "execution_count": 4,
   "metadata": {},
   "outputs": [
    {
     "data": {
      "text/plain": [
       "3"
      ]
     },
     "execution_count": 4,
     "metadata": {},
     "output_type": "execute_result"
    }
   ],
   "source": [
    "# how many key-value pairs are in d?\n",
    "\n",
    "len(d)    # how many pairs"
   ]
  },
  {
   "cell_type": "markdown",
   "metadata": {},
   "source": [
    "# Rules for dict keys and values\n",
    "\n",
    "### Keys\n",
    "\n",
    "- They can be anything at all, so long as they are immutable -- which basically means numbers and strings.\n",
    "- In a given dict, the keys must be unique.\n",
    "- Every key has a value, and every value has a key.\n",
    "\n",
    "### Values\n",
    "\n",
    "- Every value in a dict can be absolutely anything you want -- any type, any repetition, anything at all"
   ]
  },
  {
   "cell_type": "code",
   "execution_count": 5,
   "metadata": {},
   "outputs": [
    {
     "data": {
      "text/plain": [
       "10"
      ]
     },
     "execution_count": 5,
     "metadata": {},
     "output_type": "execute_result"
    }
   ],
   "source": [
    "# how can I retrieve a value via a key?\n",
    "\n",
    "d['a']   # just like I retrieve from a list/tuple/string, I retrieve from a dict with []"
   ]
  },
  {
   "cell_type": "code",
   "execution_count": 6,
   "metadata": {},
   "outputs": [
    {
     "data": {
      "text/plain": [
       "20"
      ]
     },
     "execution_count": 6,
     "metadata": {},
     "output_type": "execute_result"
    }
   ],
   "source": [
    "d['b']"
   ]
  },
  {
   "cell_type": "code",
   "execution_count": 7,
   "metadata": {},
   "outputs": [
    {
     "data": {
      "text/plain": [
       "30"
      ]
     },
     "execution_count": 7,
     "metadata": {},
     "output_type": "execute_result"
    }
   ],
   "source": [
    "d['c']"
   ]
  },
  {
   "cell_type": "code",
   "execution_count": 8,
   "metadata": {},
   "outputs": [
    {
     "ename": "KeyError",
     "evalue": "'a '",
     "output_type": "error",
     "traceback": [
      "\u001b[0;31m---------------------------------------------------------------------------\u001b[0m",
      "\u001b[0;31mKeyError\u001b[0m                                  Traceback (most recent call last)",
      "Cell \u001b[0;32mIn[8], line 3\u001b[0m\n\u001b[1;32m      1\u001b[0m \u001b[38;5;66;03m# if I change the key's string even a little...\u001b[39;00m\n\u001b[0;32m----> 3\u001b[0m \u001b[43md\u001b[49m\u001b[43m[\u001b[49m\u001b[38;5;124;43m'\u001b[39;49m\u001b[38;5;124;43ma \u001b[39;49m\u001b[38;5;124;43m'\u001b[39;49m\u001b[43m]\u001b[49m\n",
      "\u001b[0;31mKeyError\u001b[0m: 'a '"
     ]
    }
   ],
   "source": [
    "# if I change the key's string even a little...\n",
    "\n",
    "d['a ']"
   ]
  },
  {
   "cell_type": "code",
   "execution_count": 9,
   "metadata": {},
   "outputs": [
    {
     "data": {
      "text/plain": [
       "True"
      ]
     },
     "execution_count": 9,
     "metadata": {},
     "output_type": "execute_result"
    }
   ],
   "source": [
    "# how can I avoid that? How can I make sure that if I'm asking for a key, it exists?\n",
    "# I can use the \"in\" operator, which returns True if a key is in the dict\n",
    "\n",
    "'a' in d   # is 'a' a key in the dict d?"
   ]
  },
  {
   "cell_type": "code",
   "execution_count": 10,
   "metadata": {},
   "outputs": [
    {
     "data": {
      "text/plain": [
       "False"
      ]
     },
     "execution_count": 10,
     "metadata": {},
     "output_type": "execute_result"
    }
   ],
   "source": [
    "'a ' in d"
   ]
  },
  {
   "cell_type": "markdown",
   "metadata": {},
   "source": [
    "You can get a value from the key. But you cannot get the key back from the value!\n",
    "\n",
    "That's partly because of how dicts are designed, and partly because values can repeat, but keys cannot.\n"
   ]
  },
  {
   "cell_type": "code",
   "execution_count": 11,
   "metadata": {},
   "outputs": [
    {
     "data": {
      "text/plain": [
       "True"
      ]
     },
     "execution_count": 11,
     "metadata": {},
     "output_type": "execute_result"
    }
   ],
   "source": [
    "# can I use variables as the keys?\n",
    "# of course!\n",
    "\n",
    "k = 'a'\n",
    "\n",
    "k in d"
   ]
  },
  {
   "cell_type": "code",
   "execution_count": 12,
   "metadata": {},
   "outputs": [
    {
     "data": {
      "text/plain": [
       "10"
      ]
     },
     "execution_count": 12,
     "metadata": {},
     "output_type": "execute_result"
    }
   ],
   "source": [
    "d[k]"
   ]
  },
  {
   "cell_type": "markdown",
   "metadata": {},
   "source": [
    "# Where are dicts useful?\n",
    "\n",
    "There are many places where we have key-value pairs in Python. Consider:\n",
    "\n",
    "- A dict whose keys are the names of months (as strings) and whose values are the numbers (1-12)\n",
    "- A dict whose keys are the numbers of months (1-12) and whose values are the names (as strings)\n",
    "- A dict whose keys are user ID numbers and whose values are usernames\n",
    "- A dict whose keys are user ID numbers and whose values are tuples with user info"
   ]
  },
  {
   "cell_type": "markdown",
   "metadata": {},
   "source": [
    "# Exercise: Restaurant\n",
    "\n",
    "1. Define a dict, `menu`, in which the keys are strings -- items on a menu at a restaurant. The associated values should be the prices for those menu items.\n",
    "2. Define `total` to be 0.\n",
    "3. Ask the user, repeatedly, to order something from the menu.\n",
    "    - If the user entered an empty string, that indicates they no longer want to order. Break them out of this loop, and print `total`.\n",
    "    - If the user entered a string, and that string is something on our menu (i.e., a key in our dict), then add the price to `total`,  and print the `total` on the screen, along with the item and its price.\n",
    "    - If the string is *not* a key in `menu`, then scold the user and let them order something else.\n",
    "4. Print `total`\n",
    "\n",
    "Example:\n",
    "\n",
    "    Order: sandwich\n",
    "    sandwich is 15, total is 15\n",
    "    Order: tea\n",
    "    tea is 7, total is 22\n",
    "    Order: elephant\n",
    "    Sorry, we're fresh out of elephant today!\n",
    "    Order: [ENTER]\n",
    "    Your total is 22"
   ]
  },
  {
   "cell_type": "code",
   "execution_count": 13,
   "metadata": {},
   "outputs": [
    {
     "name": "stdin",
     "output_type": "stream",
     "text": [
      "Order:  sandwich\n"
     ]
    },
    {
     "name": "stdout",
     "output_type": "stream",
     "text": [
      "sandwich is 15, total is now 15\n"
     ]
    },
    {
     "name": "stdin",
     "output_type": "stream",
     "text": [
      "Order:  tea\n"
     ]
    },
    {
     "name": "stdout",
     "output_type": "stream",
     "text": [
      "tea is 7, total is now 22\n"
     ]
    },
    {
     "name": "stdin",
     "output_type": "stream",
     "text": [
      "Order:  hot dog\n"
     ]
    },
    {
     "name": "stdout",
     "output_type": "stream",
     "text": [
      "Sorry, we are fresh out of hot dog today!\n"
     ]
    },
    {
     "name": "stdin",
     "output_type": "stream",
     "text": [
      "Order:  \n"
     ]
    },
    {
     "name": "stdout",
     "output_type": "stream",
     "text": [
      "22\n"
     ]
    }
   ],
   "source": [
    "menu = {'sandwich':15, 'tea':7, 'apple':4, 'cake':8}\n",
    "total = 0\n",
    "\n",
    "while True:\n",
    "    order = input('Order: ').strip()\n",
    "\n",
    "    if order == '':   # the user indicated that we want to stop asking\n",
    "        break\n",
    "\n",
    "    if order in menu:  \n",
    "        price = menu[order]    # get the value for the key \"order\" in menu\n",
    "        total += price\n",
    "        print(f'{order} is {price}, total is now {total}')\n",
    "    else:\n",
    "        print(f'Sorry, we are fresh out of {order} today!')\n",
    "\n",
    "print(total)        "
   ]
  },
  {
   "cell_type": "code",
   "execution_count": 14,
   "metadata": {},
   "outputs": [
    {
     "name": "stdout",
     "output_type": "stream",
     "text": [
      "15\n"
     ]
    }
   ],
   "source": [
    "order = 'sandwich'\n",
    "print(menu[order])"
   ]
  },
  {
   "cell_type": "markdown",
   "metadata": {},
   "source": [
    "# Are dictionaries mutable?\n",
    "\n",
    "Yes! Absolutely!\n",
    "\n",
    "What does it mean for something to be mutable? When it comes to a list, we found:\n",
    "\n",
    "- We can replace existing values\n",
    "- We can add new elements to a list\n",
    "- We can remove existing elements from a list\n",
    "\n",
    "For a dict to be mutable, we would need to be able to:\n",
    "\n",
    "- Replace existing values for a given key\n",
    "- Add new key-value pairs\n",
    "- Remove existing key-value pairs\n",
    "\n",
    "We can do all three of these!"
   ]
  },
  {
   "cell_type": "code",
   "execution_count": 15,
   "metadata": {},
   "outputs": [
    {
     "data": {
      "text/plain": [
       "{'a': 10, 'b': 999, 'c': 30}"
      ]
     },
     "execution_count": 15,
     "metadata": {},
     "output_type": "execute_result"
    }
   ],
   "source": [
    "d = {'a':10, 'b':20, 'c':30}\n",
    "\n",
    "# how can I replace an existing value in a dict?\n",
    "# answer: assign a new value to the key\n",
    "\n",
    "d['b'] = 999\n",
    "d"
   ]
  },
  {
   "cell_type": "code",
   "execution_count": 16,
   "metadata": {},
   "outputs": [
    {
     "data": {
      "text/plain": [
       "{'a': 10, 'b': 999, 'c': 31}"
      ]
     },
     "execution_count": 16,
     "metadata": {},
     "output_type": "execute_result"
    }
   ],
   "source": [
    "# I want to increment the value of 'c' by 1\n",
    "\n",
    "d['c'] += 1   # the same as saying d['c'] = d['c'] + 1\n",
    "d"
   ]
  },
  {
   "cell_type": "code",
   "execution_count": 17,
   "metadata": {},
   "outputs": [
    {
     "data": {
      "text/plain": [
       "{'a': 10, 'b': 999, 'c': 31}"
      ]
     },
     "execution_count": 17,
     "metadata": {},
     "output_type": "execute_result"
    }
   ],
   "source": [
    "# how can I add a new key-value pair to my dict?\n",
    "# answer: assign a new value to the key\n",
    "# it's exactly the same syntax as we had for updating a value!\n",
    "\n",
    "# if the key already exists, then we replace its value. But if the key is new, then we add a new key-value pair\n",
    "\n",
    "d"
   ]
  },
  {
   "cell_type": "code",
   "execution_count": 18,
   "metadata": {},
   "outputs": [
    {
     "data": {
      "text/plain": [
       "{'a': 10, 'b': 999, 'c': 31, 'x': 888}"
      ]
     },
     "execution_count": 18,
     "metadata": {},
     "output_type": "execute_result"
    }
   ],
   "source": [
    "d['x'] = 888\n",
    "d"
   ]
  },
  {
   "cell_type": "code",
   "execution_count": 19,
   "metadata": {},
   "outputs": [
    {
     "data": {
      "text/plain": [
       "{'a': 10, 'b': 999, 'c': 31, 'x': 889}"
      ]
     },
     "execution_count": 19,
     "metadata": {},
     "output_type": "execute_result"
    }
   ],
   "source": [
    "d['x'] += 1\n",
    "d"
   ]
  },
  {
   "cell_type": "code",
   "execution_count": 20,
   "metadata": {},
   "outputs": [
    {
     "data": {
      "text/plain": [
       "889"
      ]
     },
     "execution_count": 20,
     "metadata": {},
     "output_type": "execute_result"
    }
   ],
   "source": [
    "# what about removing key-value pairs?\n",
    "\n",
    "d.pop('x')  # this means: remove the key-value pair with a key 'x', and return the value associated with it"
   ]
  },
  {
   "cell_type": "code",
   "execution_count": 21,
   "metadata": {},
   "outputs": [
    {
     "data": {
      "text/plain": [
       "{'a': 10, 'b': 999, 'c': 31}"
      ]
     },
     "execution_count": 21,
     "metadata": {},
     "output_type": "execute_result"
    }
   ],
   "source": [
    "d"
   ]
  },
  {
   "cell_type": "markdown",
   "metadata": {},
   "source": [
    "# Accumulating with dicts\n",
    "\n",
    "We've seen in previous weeks that we can use lists to accumulate values over time. We can use dicts in similar ways. Very often, we'll start a program with an initial dict whose keys are set, and will not change, but whose values are empty -- 0, an empty list, or the like. In this way, our dict can over time accumulate data, but it can do that in a more sophisticated way than a list."
   ]
  },
  {
   "cell_type": "markdown",
   "metadata": {},
   "source": [
    "# Exercise: Vowels, digits, and others (dict edition)\n",
    "\n",
    "1. Define a dict, `counts`, with three keys -- `vowels`, `digits`, and `others`. Their values should all be 0.\n",
    "2. Ask the user to enter a string.\n",
    "3. Go through the string, one character at a time.\n",
    "    - If the character is a vowel, add 1 to the count for `vowels`\n",
    "    - If the character is a digit, add 1 to the count for `digits`\n",
    "    - If the character is neither, add 1 to the count for `others`\n",
    "4. Print `counts`"
   ]
  },
  {
   "cell_type": "code",
   "execution_count": 28,
   "metadata": {},
   "outputs": [
    {
     "name": "stdin",
     "output_type": "stream",
     "text": [
      "Enter text:  THIS IS GREAT\n"
     ]
    },
    {
     "name": "stdout",
     "output_type": "stream",
     "text": [
      "{'vowels': 4, 'digits': 0, 'others': 9}\n"
     ]
    }
   ],
   "source": [
    "counts = {'vowels':0,\n",
    "          'digits':0,\n",
    "          'others':0}\n",
    "vowels = 'aeiou'\n",
    "\n",
    "text = input('Enter text: ').strip()\n",
    "\n",
    "for one_character in text.lower():\n",
    "    if one_character in vowels:     # if one_character is a vowel...\n",
    "        counts['vowels'] += 1       # ... update the value of counts['vowels'] with 1 + the current value\n",
    "    elif one_character.isdigit():   # if one_character is a digit...\n",
    "        counts['digits'] += 1       #  .... update the value of counts['digits'] with 1 + the current value\n",
    "    else:\n",
    "        counts['others'] += 1       # in all other cases, add 1 to counts['others']\n",
    "\n",
    "print(counts)"
   ]
  },
  {
   "cell_type": "code",
   "execution_count": 27,
   "metadata": {},
   "outputs": [
    {
     "name": "stdin",
     "output_type": "stream",
     "text": [
      "Enter the character:  hello!! 123\n"
     ]
    },
    {
     "name": "stdout",
     "output_type": "stream",
     "text": [
      "{'vowels': 2, 'digits': 3, 'others': 6}\n"
     ]
    }
   ],
   "source": [
    "# KM\n",
    "\n",
    "counts = {'vowels':0, 'digits':0, 'others':0}\n",
    "\n",
    "word = input('Enter the character: ').strip()\n",
    "\n",
    "for one_character in word:\n",
    "    if one_character in 'aeiou':\n",
    "        counts['vowels'] +=1\n",
    "    \n",
    "    elif one_character.isdigit():\n",
    "        counts['digits'] +=1\n",
    "    \n",
    "    else:\n",
    "        counts['others'] +=1\n",
    "\n",
    "print(counts)"
   ]
  },
  {
   "cell_type": "markdown",
   "metadata": {},
   "source": [
    "# Next up\n",
    "\n",
    "1. Accumulating in another way in our dicts\n",
    "2. Accumulating the unknown\n",
    "3. Iterating over our dicts"
   ]
  },
  {
   "cell_type": "markdown",
   "metadata": {},
   "source": [
    "# Paradigms we've seen so far\n",
    "\n",
    "1. Set up a dict at the start of your program, and treat it as a read-only database.\n",
    "2. Set up a dict with keys and initial values. Over the course of the program, update the values, but don't change/add/remove any of the keys.\n",
    "3. Set up an empty dict, and then accumulate both keys and values."
   ]
  },
  {
   "cell_type": "markdown",
   "metadata": {},
   "source": [
    "# Exercise: Vowels, digits, and others (dict edition, part 2)\n",
    "\n",
    "1. Define a dict, `counts`, with three keys -- `vowels`, `digits`, and `others`. Their values should all be `[]`.\n",
    "2. Ask the user to enter a string.\n",
    "3. Go through the string, one character at a time.\n",
    "    - If the character is a vowel, add `one_character` to the list that is the value for `vowels`\n",
    "    - If the character is a digit, add `one_character` to the list that is the value for `digits`\n",
    "    - If the character is neither, add `one_character` to the list that is the value for `others`\n",
    "4. Print `counts`"
   ]
  },
  {
   "cell_type": "code",
   "execution_count": 29,
   "metadata": {},
   "outputs": [
    {
     "name": "stdin",
     "output_type": "stream",
     "text": [
      "Enter text:  hello!! 123\n"
     ]
    },
    {
     "name": "stdout",
     "output_type": "stream",
     "text": [
      "{'vowels': ['e', 'o'], 'digits': ['1', '2', '3'], 'others': ['h', 'l', 'l', '!', '!', ' ']}\n"
     ]
    }
   ],
   "source": [
    "counts = {'vowels': [ ],\n",
    "          'digits': [ ],\n",
    "          'others': [ ]}\n",
    "\n",
    "text = input('Enter text: ').strip()\n",
    "\n",
    "for one_character in text:\n",
    "    if one_character in vowels:    \n",
    "        counts['vowels'].append(one_character)\n",
    "    elif one_character.isdigit(): \n",
    "        counts['digits'].append(one_character)\n",
    "    else:\n",
    "        counts['others'].append(one_character)\n",
    "\n",
    "print(counts)        "
   ]
  },
  {
   "cell_type": "code",
   "execution_count": null,
   "metadata": {},
   "outputs": [],
   "source": [
    "# U1\n",
    "\n",
    "counts = {'digits' : [], 'vowels' : [], 'others': []}  \n",
    "\n",
    "characters = input ('Enter a word: ').strip()\n",
    "\n",
    "for a in characters:\n",
    "    if a in 'aeiou':\n",
    "        counts['vowels'] +=a\n",
    "    if a.isdigit():\n",
    "        counts['digits'] +=a\n",
    "    else:\n",
    "        counts['others'] +=a\n",
    "print(counts)"
   ]
  },
  {
   "cell_type": "markdown",
   "metadata": {},
   "source": [
    "# Two different ways to add items to a list:\n",
    "\n",
    "1. `list.append`, which takes whatever you give it, of any type, and adds it to the end of a list\n",
    "2. `+=`, which takes an iterable value, runs a `for` loop on it, and invokes `list.append` on each element\n",
    "\n"
   ]
  },
  {
   "cell_type": "code",
   "execution_count": 30,
   "metadata": {},
   "outputs": [
    {
     "data": {
      "text/plain": [
       "[10, 20, 30, 'hello']"
      ]
     },
     "execution_count": 30,
     "metadata": {},
     "output_type": "execute_result"
    }
   ],
   "source": [
    "mylist = [10, 20, 30]\n",
    "\n",
    "mylist.append('hello')\n",
    "mylist"
   ]
  },
  {
   "cell_type": "code",
   "execution_count": 31,
   "metadata": {},
   "outputs": [
    {
     "data": {
      "text/plain": [
       "[10, 20, 30, 'hello', 'h', 'e', 'l', 'l', 'o']"
      ]
     },
     "execution_count": 31,
     "metadata": {},
     "output_type": "execute_result"
    }
   ],
   "source": [
    "mylist += 'hello'\n",
    "mylist"
   ]
  },
  {
   "cell_type": "markdown",
   "metadata": {},
   "source": [
    "# Accumulating the unknown\n",
    "\n",
    "What if we want to have a dict that counts, or accumulates, data of various sorts? But we don't know what keys or values we'll get?\n"
   ]
  },
  {
   "cell_type": "code",
   "execution_count": 33,
   "metadata": {},
   "outputs": [
    {
     "name": "stdin",
     "output_type": "stream",
     "text": [
      "Enter text:  hello\n"
     ]
    },
    {
     "ename": "KeyError",
     "evalue": "'h'",
     "output_type": "error",
     "traceback": [
      "\u001b[0;31m---------------------------------------------------------------------------\u001b[0m",
      "\u001b[0;31mKeyError\u001b[0m                                  Traceback (most recent call last)",
      "Cell \u001b[0;32mIn[33], line 15\u001b[0m\n\u001b[1;32m     12\u001b[0m text \u001b[38;5;241m=\u001b[39m \u001b[38;5;28minput\u001b[39m(\u001b[38;5;124m'\u001b[39m\u001b[38;5;124mEnter text: \u001b[39m\u001b[38;5;124m'\u001b[39m)\u001b[38;5;241m.\u001b[39mstrip()\n\u001b[1;32m     14\u001b[0m \u001b[38;5;28;01mfor\u001b[39;00m one_character \u001b[38;5;129;01min\u001b[39;00m text:\n\u001b[0;32m---> 15\u001b[0m     \u001b[43mcounts\u001b[49m\u001b[43m[\u001b[49m\u001b[43mone_character\u001b[49m\u001b[43m]\u001b[49m \u001b[38;5;241m+\u001b[39m\u001b[38;5;241m=\u001b[39m \u001b[38;5;241m1\u001b[39m    \u001b[38;5;66;03m# our ideal world\u001b[39;00m\n",
      "\u001b[0;31mKeyError\u001b[0m: 'h'"
     ]
    }
   ],
   "source": [
    "# Example: Let's count how often each character appears in a string\n",
    "# I want a dict whose keys are the characters and whose values are the counts\n",
    "\n",
    "# what will this dict be initialized with? \n",
    "# we can start with an empty dict. \n",
    "# When we encounter a character:\n",
    "# - if we saw it before, add 1 to the count\n",
    "# - if it's new, then add both the key and the value (a count of 1)\n",
    "\n",
    "counts = {}   # empty dict\n",
    "\n",
    "text = input('Enter text: ').strip()\n",
    "\n",
    "for one_character in text:\n",
    "    counts[one_character] += 1    # our ideal world"
   ]
  },
  {
   "cell_type": "code",
   "execution_count": 34,
   "metadata": {},
   "outputs": [
    {
     "name": "stdin",
     "output_type": "stream",
     "text": [
      "Enter text:  hello\n"
     ]
    }
   ],
   "source": [
    "\n",
    "counts = {}   # empty dict\n",
    "\n",
    "text = input('Enter text: ').strip()\n",
    "\n",
    "for one_character in text:\n",
    "    if one_character in counts:   # if we've already seen this character (key) before:\n",
    "        counts[one_character] += 1    # add 1 to it\n",
    "    else:\n",
    "        counts[one_character] = 1  # otherwise, add this new key-value pair"
   ]
  },
  {
   "cell_type": "code",
   "execution_count": 35,
   "metadata": {},
   "outputs": [
    {
     "data": {
      "text/plain": [
       "{'h': 1, 'e': 1, 'l': 2, 'o': 1}"
      ]
     },
     "execution_count": 35,
     "metadata": {},
     "output_type": "execute_result"
    }
   ],
   "source": [
    "counts"
   ]
  },
  {
   "cell_type": "markdown",
   "metadata": {},
   "source": [
    "# Exercise: Rainfall\n",
    "\n",
    "The goal is to ask the user, repeatedly, for city names and then for the amount of rain that fell in that city. (We'll ask in two separate questions.) Over time, we'll accumulate data about rainfall in different cities. We'll do so in a dict whose keys are city names and whose values are integers, the mm rain that fell.\n",
    "\n",
    "1. Create an empty dict, `rainfall`.\n",
    "2. Ask the user for the name of the city about which we're reporting.\n",
    "    - If we get an empty city name, stop asking, break out of the loop\n",
    "3. If we did get a city name, ask a second question: What was the rainfall in that city?\n",
    "    - Assume we get an integer here, if it makes the code much cleaner\n",
    "4. Take the city name and rainfall amount:\n",
    "    - if we have seen this city before, add the new rainfall to the existing amount\n",
    "    - If this is a new city, then add the new key-value pair to the dict\n",
    "5. Print `rainfall` for the user\n",
    "\n",
    "Example:\n",
    "\n",
    "    city: a\n",
    "    rain: 5\n",
    "    city: b\n",
    "    rain: 4\n",
    "    city: a\n",
    "    rain: 3\n",
    "    city: [ENTER]\n",
    "    {'a':8, 'b':4}"
   ]
  },
  {
   "cell_type": "code",
   "execution_count": 36,
   "metadata": {},
   "outputs": [],
   "source": [
    "s = \"he's nice\""
   ]
  },
  {
   "cell_type": "code",
   "execution_count": 37,
   "metadata": {},
   "outputs": [],
   "source": [
    "s = 'He said, \"Hello\"'"
   ]
  },
  {
   "cell_type": "code",
   "execution_count": 38,
   "metadata": {},
   "outputs": [
    {
     "name": "stdin",
     "output_type": "stream",
     "text": [
      "City:  a\n",
      "Rain:  5\n",
      "City:  b\n",
      "Rain:  4\n",
      "City:  a\n",
      "Rain:  3\n",
      "City:  \n"
     ]
    },
    {
     "name": "stdout",
     "output_type": "stream",
     "text": [
      "{'a': 8, 'b': 4}\n"
     ]
    }
   ],
   "source": [
    "rainfall = {}\n",
    "\n",
    "while True:\n",
    "    city_name = input('City: ').strip()\n",
    "\n",
    "    if city_name == '':\n",
    "        break\n",
    "\n",
    "    mm_rain = input('Rain: ').strip()\n",
    "    mm_rain = int(mm_rain)\n",
    "\n",
    "    if city_name in rainfall:\n",
    "        rainfall[city_name] += mm_rain\n",
    "    else:\n",
    "        rainfall[city_name] = mm_rain\n",
    "\n",
    "print(rainfall)        "
   ]
  },
  {
   "cell_type": "code",
   "execution_count": 39,
   "metadata": {},
   "outputs": [
    {
     "name": "stdin",
     "output_type": "stream",
     "text": [
      "City:  a\n",
      "Rain:  5\n",
      "City:  b\n",
      "Rain:  4\n",
      "City:  c\n",
      "Rain:  3\n",
      "City:  a\n",
      "Rain:  2\n",
      "City:  b\n",
      "Rain:  1\n",
      "City:  c\n",
      "Rain:  5\n",
      "City:  \n"
     ]
    },
    {
     "name": "stdout",
     "output_type": "stream",
     "text": [
      "{'a': [5, 2], 'b': [4, 1], 'c': [3, 5]}\n"
     ]
    }
   ],
   "source": [
    "# what if we want to accumulate rainfall information for each city -- not sum it, \n",
    "# but keep each of the lists of mm_rain?\n",
    "\n",
    "rainfall = {}\n",
    "\n",
    "while True:\n",
    "    city_name = input('City: ').strip()\n",
    "\n",
    "    if city_name == '':\n",
    "        break\n",
    "\n",
    "    mm_rain = input('Rain: ').strip()\n",
    "    mm_rain = int(mm_rain)\n",
    "\n",
    "    if city_name in rainfall:\n",
    "        rainfall[city_name].append(mm_rain)\n",
    "    else:\n",
    "        rainfall[city_name] = [mm_rain]   # list containing 1 integer, mm_rain\n",
    "\n",
    "print(rainfall)        "
   ]
  },
  {
   "cell_type": "markdown",
   "metadata": {},
   "source": [
    "# Next up\n",
    "\n",
    "1. Iteration on dicts\n",
    "2. How are dicts implemented?\n",
    "3. Files!\n",
    "\n",
    "Download the zipfile from https://files.lerner.co.il/exercise-files.zip "
   ]
  },
  {
   "cell_type": "code",
   "execution_count": 40,
   "metadata": {},
   "outputs": [],
   "source": [
    "d = {'a':10, 'b':20, 'c':30}"
   ]
  },
  {
   "cell_type": "code",
   "execution_count": 41,
   "metadata": {},
   "outputs": [],
   "source": [
    "# the keys in this dict are 'a', 'b', and 'c'\n",
    "\n",
    "# PRECISELY those keys -- no variations whatsoever are allowed"
   ]
  },
  {
   "cell_type": "code",
   "execution_count": 42,
   "metadata": {},
   "outputs": [
    {
     "ename": "KeyError",
     "evalue": "'A'",
     "output_type": "error",
     "traceback": [
      "\u001b[0;31m---------------------------------------------------------------------------\u001b[0m",
      "\u001b[0;31mKeyError\u001b[0m                                  Traceback (most recent call last)",
      "Cell \u001b[0;32mIn[42], line 1\u001b[0m\n\u001b[0;32m----> 1\u001b[0m \u001b[43md\u001b[49m\u001b[43m[\u001b[49m\u001b[38;5;124;43m'\u001b[39;49m\u001b[38;5;124;43mA\u001b[39;49m\u001b[38;5;124;43m'\u001b[39;49m\u001b[43m]\u001b[49m\n",
      "\u001b[0;31mKeyError\u001b[0m: 'A'"
     ]
    }
   ],
   "source": [
    "d['A']"
   ]
  },
  {
   "cell_type": "code",
   "execution_count": 45,
   "metadata": {},
   "outputs": [
    {
     "ename": "KeyError",
     "evalue": "'Las  Vegas'",
     "output_type": "error",
     "traceback": [
      "\u001b[0;31m---------------------------------------------------------------------------\u001b[0m",
      "\u001b[0;31mKeyError\u001b[0m                                  Traceback (most recent call last)",
      "Cell \u001b[0;32mIn[45], line 3\u001b[0m\n\u001b[1;32m      1\u001b[0m d \u001b[38;5;241m=\u001b[39m {\u001b[38;5;124m'\u001b[39m\u001b[38;5;124mLas Vegas\u001b[39m\u001b[38;5;124m'\u001b[39m: \u001b[38;5;241m3\u001b[39m}\n\u001b[0;32m----> 3\u001b[0m \u001b[43md\u001b[49m\u001b[43m[\u001b[49m\u001b[38;5;124;43m'\u001b[39;49m\u001b[38;5;124;43mLas  Vegas\u001b[39;49m\u001b[38;5;124;43m'\u001b[39;49m\u001b[43m]\u001b[49m\n",
      "\u001b[0;31mKeyError\u001b[0m: 'Las  Vegas'"
     ]
    }
   ],
   "source": [
    "d = {'Las Vegas': 3}\n",
    "\n",
    "d['Las  Vegas']"
   ]
  },
  {
   "cell_type": "markdown",
   "metadata": {},
   "source": [
    "# Iteration and dicts\n",
    "\n",
    "If we want, we can iterate over a variety of different Python data structures:\n",
    "\n",
    "- Strings give us their characters, one at a time\n",
    "- Lists and tuples give us their elements, one at a time\n",
    "\n",
    "What about dicts?"
   ]
  },
  {
   "cell_type": "code",
   "execution_count": 46,
   "metadata": {},
   "outputs": [],
   "source": [
    "d = {'a':10, 'b':20, 'c':30}"
   ]
  },
  {
   "cell_type": "code",
   "execution_count": 48,
   "metadata": {},
   "outputs": [
    {
     "name": "stdout",
     "output_type": "stream",
     "text": [
      "a\n",
      "b\n",
      "c\n"
     ]
    }
   ],
   "source": [
    "# iterating over a dict gives you the keys\n",
    "\n",
    "for one_item in d:\n",
    "    print(one_item)"
   ]
  },
  {
   "cell_type": "code",
   "execution_count": 50,
   "metadata": {},
   "outputs": [
    {
     "name": "stdout",
     "output_type": "stream",
     "text": [
      "c\n",
      "a\n",
      "b\n"
     ]
    }
   ],
   "source": [
    "d = {}\n",
    "d['c'] = 30\n",
    "d['a'] = 10\n",
    "d['b'] = 20\n",
    "\n",
    "for one_item in d:\n",
    "    print(one_item)"
   ]
  },
  {
   "cell_type": "code",
   "execution_count": 51,
   "metadata": {},
   "outputs": [
    {
     "name": "stdout",
     "output_type": "stream",
     "text": [
      "c: 30\n",
      "a: 10\n",
      "b: 20\n"
     ]
    }
   ],
   "source": [
    "# if I want, I can then iterate over a dict and print the keys and value!\n",
    "\n",
    "for key in d:\n",
    "    print(f'{key}: {d[key]}')"
   ]
  },
  {
   "cell_type": "code",
   "execution_count": 52,
   "metadata": {},
   "outputs": [
    {
     "data": {
      "text/plain": [
       "dict_keys(['c', 'a', 'b'])"
      ]
     },
     "execution_count": 52,
     "metadata": {},
     "output_type": "execute_result"
    }
   ],
   "source": [
    "# this is (I think) a bit ugly\n",
    "\n",
    "# meanwhile, there are some other methods we can use\n",
    "# for example: we can invoke dict.keys(), which returns the keys of a dict\n",
    "\n",
    "d.keys()"
   ]
  },
  {
   "cell_type": "code",
   "execution_count": 53,
   "metadata": {},
   "outputs": [
    {
     "data": {
      "text/plain": [
       "True"
      ]
     },
     "execution_count": 53,
     "metadata": {},
     "output_type": "execute_result"
    }
   ],
   "source": [
    "# can I use \"in\" on d.keys()?\n",
    "\n",
    "'a' in d.keys()"
   ]
  },
  {
   "cell_type": "code",
   "execution_count": 54,
   "metadata": {},
   "outputs": [
    {
     "name": "stdout",
     "output_type": "stream",
     "text": [
      "c: 30\n",
      "a: 10\n",
      "b: 20\n"
     ]
    }
   ],
   "source": [
    "# can I use a for loop on d.keys()?\n",
    "\n",
    "for key in d.keys():\n",
    "    print(f'{key}: {d[key]}')"
   ]
  },
  {
   "cell_type": "markdown",
   "metadata": {},
   "source": [
    "You really should avoid using `d.keys()` unless you absolutely need to. There's almost never any reason to use it -- you can just search on the dict itself and iterate over the dict itself."
   ]
  },
  {
   "cell_type": "code",
   "execution_count": 55,
   "metadata": {},
   "outputs": [
    {
     "data": {
      "text/plain": [
       "dict_values([30, 10, 20])"
      ]
     },
     "execution_count": 55,
     "metadata": {},
     "output_type": "execute_result"
    }
   ],
   "source": [
    "# what about values?\n",
    "# there is a dict.values method, which returns the values\n",
    "\n",
    "d.values()"
   ]
  },
  {
   "cell_type": "code",
   "execution_count": 56,
   "metadata": {},
   "outputs": [
    {
     "data": {
      "text/plain": [
       "True"
      ]
     },
     "execution_count": 56,
     "metadata": {},
     "output_type": "execute_result"
    }
   ],
   "source": [
    "10 in d.values()"
   ]
  },
  {
   "cell_type": "code",
   "execution_count": 57,
   "metadata": {},
   "outputs": [],
   "source": [
    "# remember, normally \"in\" only works on the keys, not the values!"
   ]
  },
  {
   "cell_type": "code",
   "execution_count": 58,
   "metadata": {},
   "outputs": [
    {
     "name": "stdout",
     "output_type": "stream",
     "text": [
      "('c', 30)\n",
      "('a', 10)\n",
      "('b', 20)\n"
     ]
    }
   ],
   "source": [
    "# my favorite way to iterate over a dict is actually a separate method called dict.items\n",
    "# this returns a (key, value) tuple for each pair in the dict\n",
    "\n",
    "for one_item in d.items():\n",
    "    print(one_item)"
   ]
  },
  {
   "cell_type": "code",
   "execution_count": 59,
   "metadata": {},
   "outputs": [
    {
     "name": "stdout",
     "output_type": "stream",
     "text": [
      "c: 30\n",
      "a: 10\n",
      "b: 20\n"
     ]
    }
   ],
   "source": [
    "# let's use tuple unpacking to pull apart one_item\n",
    "\n",
    "for one_item in d.items():\n",
    "    key, value = one_item\n",
    "    print(f'{key}: {value}')"
   ]
  },
  {
   "cell_type": "code",
   "execution_count": 60,
   "metadata": {},
   "outputs": [
    {
     "name": "stdout",
     "output_type": "stream",
     "text": [
      "c: 30\n",
      "a: 10\n",
      "b: 20\n"
     ]
    }
   ],
   "source": [
    "for key, value in d.items():\n",
    "    print(f'{key}: {value}')"
   ]
  },
  {
   "cell_type": "code",
   "execution_count": 61,
   "metadata": {},
   "outputs": [
    {
     "data": {
      "text/plain": [
       "{'a': [5, 2], 'b': [4, 1], 'c': [3, 5]}"
      ]
     },
     "execution_count": 61,
     "metadata": {},
     "output_type": "execute_result"
    }
   ],
   "source": [
    "rainfall"
   ]
  },
  {
   "cell_type": "code",
   "execution_count": 62,
   "metadata": {},
   "outputs": [
    {
     "name": "stdout",
     "output_type": "stream",
     "text": [
      "a: [5, 2]\n",
      "b: [4, 1]\n",
      "c: [3, 5]\n"
     ]
    }
   ],
   "source": [
    "for key, value in rainfall.items():\n",
    "    print(f'{key}: {value}')"
   ]
  },
  {
   "cell_type": "code",
   "execution_count": 63,
   "metadata": {},
   "outputs": [
    {
     "name": "stdout",
     "output_type": "stream",
     "text": [
      "a: [5, 2], total is 7, mean is 3.5\n",
      "b: [4, 1], total is 5, mean is 2.5\n",
      "c: [3, 5], total is 8, mean is 4.0\n"
     ]
    }
   ],
   "source": [
    "for key, value in rainfall.items():\n",
    "    print(f'{key}: {value}, total is {sum(value)}, mean is {sum(value)/len(value)}')"
   ]
  },
  {
   "cell_type": "markdown",
   "metadata": {},
   "source": [
    "# Ordering in dicts\n",
    "\n",
    "First and foremost: If you're thinking about the order of key-value pairs in a dict, you are probably thinking about things wrong. Don't think about this! Just retrieve the values based on the keys.\n",
    "\n",
    "That said: The key-value pairs are stored in a dict in the order that we stored them there. When we set `d = {'a':10, 'b':20, 'c':30}`, we will get the keys in order `a, b, c` and the values in order `10, 20, 30`. \n",
    "\n",
    "But I earlier did something else:\n",
    "\n",
    "```python\n",
    "d = {}\n",
    "d['c'] = 30\n",
    "d['a'] = 10\n",
    "d['b'] = 20\n",
    "```\n",
    "\n",
    "That means that when I iterate over the dict, I'll get `c, a, b` and `30, 10, 20`."
   ]
  },
  {
   "cell_type": "markdown",
   "metadata": {},
   "source": [
    "# Exercise: Odds and evens\n",
    "\n",
    "1. Create a dict in which the keys are strings, `'odds'` and `'evens'`, and the values are empty lists.\n",
    "2. Ask the user to enter a string containing integers separated by spaces.\n",
    "3. Iterate over each int:\n",
    "    - If it's not an int, then scold the user\n",
    "    - If it is even, then append to the list for `evens`\n",
    "    - If it's odd, then append to the list for `odds`\n",
    "4. Iterate over the dict, printing each key and each value, plus the mean of all odd/even values."
   ]
  },
  {
   "cell_type": "code",
   "execution_count": 64,
   "metadata": {},
   "outputs": [
    {
     "name": "stdin",
     "output_type": "stream",
     "text": [
      "Enter numbers:  10 15 11 23 hello 31 36\n"
     ]
    },
    {
     "name": "stdout",
     "output_type": "stream",
     "text": [
      "hello is not numeric; ignoring\n",
      "odds: [15, 11, 23, 31], 20.0\n",
      "evens: [10, 36], 23.0\n"
     ]
    }
   ],
   "source": [
    "counts = {'odds': [],\n",
    "         'evens': []}\n",
    "\n",
    "s = input('Enter numbers: ').strip()\n",
    "\n",
    "for one_number in s.split():\n",
    "    if not one_number.isdigit():\n",
    "        print(f'{one_number} is not numeric; ignoring')\n",
    "        continue\n",
    "\n",
    "    n = int(one_number)\n",
    "\n",
    "    if n % 2 == 1:        # if the remainder from dividing by 2 is 1, it's odd!\n",
    "        counts['odds'].append(n)   # append it to the list at counts['odds']\n",
    "    else:\n",
    "        counts['evens'].append(n)\n",
    "\n",
    "for key, value in counts.items():\n",
    "    print(f'{key}: {value}, {sum(value) / len(value)}')"
   ]
  },
  {
   "cell_type": "markdown",
   "metadata": {},
   "source": [
    "# How do dicts work?\n",
    "\n",
    "A dictionary is a 'hash table,' meaning that the pair's storage location in Python's memory depends on the result of a function, called `hash`, and running it on the key.\n",
    "\n",
    "Whatever we get back from `hash(key)` determines where the key-value pair is stored.\n",
    "\n",
    "This explained a *lot*!\n",
    "\n",
    "- Keys need to be unqiue, because we can't have two pairs in the same place\n",
    "- Keys need to be immutable, but if we modify a key, then the result of `hash(key)` will be different\n",
    "- Even the slightest differences between keys can result in not finding the key-value pair, because `hash(s)` and `hash(t)` are going to be wildly different.\n",
    "- Searching with `in` in a dict, or retrieving with `[]` from a dict is SUPER DUPER fast."
   ]
  },
  {
   "cell_type": "markdown",
   "metadata": {},
   "source": [
    "# Files\n",
    "\n",
    "We all use files all of the time.\n",
    "\n",
    "But as programmers, what is a file? The answer is: a permanent record of data structures we had in memory. When we save a file, we convert data structures to a written format. And when we load a file, we turn that written format back into data structures.\n",
    "\n",
    "If we want to read from a file, meaning that we want to turn it into data structures in Python, we'll somehow need to tell the OS/computer that we want to read from a file?\n",
    "\n",
    "- We indicate to the OS that we want to read from a file\n",
    "- It either gives us an error, or returns a \"file handle\" or \"file object\"\n",
    "- That object is our agent, allowing us to work with the file\n",
    "\n",
    "In order to do this in Python:\n",
    "\n",
    "- Invoke the `open` function to open a file, handing it a filename (a string)\n",
    "- That returns a file object\n",
    "- On that file object, we can run methods that return the contents of the file"
   ]
  },
  {
   "cell_type": "markdown",
   "metadata": {},
   "source": [
    "# Filenames\n",
    "\n",
    "A filename is a string telling the computer where the file is that we want to work with\n",
    "\n",
    "- If it's just a regular string without any `/` characters (or `\\` on Windows) then the file should be in the current directory\n",
    "- If it starts with non-`/` characters but has one or more inside the string, then it's a \"relative\" filename, meaning that it's underneath the current folder/directory\n",
    "- If it starts with `/`, then that means we have an \"absolute filename,\" telling the OS where to look relative to the start of all disks"
   ]
  },
  {
   "cell_type": "code",
   "execution_count": 65,
   "metadata": {},
   "outputs": [],
   "source": [
    "# if I want to open a file for reading, I can just use \"open\"\n",
    "# I like to use the Unix file /etc/passwd, which is on every Unix system (including Mac)\n",
    "\n",
    "f = open('/etc/passwd')   # could be more explicit, saying open('/etc/passwd', 'r')"
   ]
  },
  {
   "cell_type": "code",
   "execution_count": 66,
   "metadata": {},
   "outputs": [
    {
     "data": {
      "text/plain": [
       "<_io.TextIOWrapper name='/etc/passwd' mode='r' encoding='UTF-8'>"
      ]
     },
     "execution_count": 66,
     "metadata": {},
     "output_type": "execute_result"
    }
   ],
   "source": [
    "f"
   ]
  },
  {
   "cell_type": "code",
   "execution_count": 67,
   "metadata": {},
   "outputs": [
    {
     "name": "stdout",
     "output_type": "stream",
     "text": [
      "##\n",
      "# User Database\n",
      "# \n",
      "# Note that this file is consulted directly only when the system is running\n",
      "# in single-user mode.  At other times this information is provided by\n",
      "# Open Directory.\n",
      "#\n",
      "# See the opendirectoryd(8) man page for additional information about\n",
      "# Open Directory.\n",
      "##\n",
      "nobody:*:-2:-2:Unprivileged User:/var/empty:/usr/bin/false\n",
      "root:*:0:0:System Administrator:/var/root:/bin/sh\n",
      "daemon:*:1:1:System Services:/var/root:/usr/bin/false\n",
      "_uucp:*:4:4:Unix to Unix Copy Protocol:/var/spool/uucp:/usr/sbin/uucico\n",
      "_taskgated:*:13:13:Task Gate Daemon:/var/empty:/usr/bin/false\n",
      "_networkd:*:24:24:Network Services:/var/networkd:/usr/bin/false\n",
      "_installassistant:*:25:25:Install Assistant:/var/empty:/usr/bin/false\n",
      "_lp:*:26:26:Printing Services:/var/spool/cups:/usr/bin/false\n",
      "_postfix:*:27:27:Postfix Mail Server:/var/spool/postfix:/usr/bin/false\n",
      "_scsd:*:31:31:Service Configuration Service:/var/empty:/usr/bin/false\n",
      "_ces:*:32:32:Certificate Enrollment Service:/var/empty:/usr/bin/false\n",
      "_appstore:*:33:33:Mac App Store Service:/var/db/appstore:/usr/bin/false\n",
      "_mcxalr:*:54:54:MCX AppLaunch:/var/empty:/usr/bin/false\n",
      "_appleevents:*:55:55:AppleEvents Daemon:/var/empty:/usr/bin/false\n",
      "_geod:*:56:56:Geo Services Daemon:/var/db/geod:/usr/bin/false\n",
      "_devdocs:*:59:59:Developer Documentation:/var/empty:/usr/bin/false\n",
      "_sandbox:*:60:60:Seatbelt:/var/empty:/usr/bin/false\n",
      "_mdnsresponder:*:65:65:mDNSResponder:/var/empty:/usr/bin/false\n",
      "_ard:*:67:67:Apple Remote Desktop:/var/empty:/usr/bin/false\n",
      "_www:*:70:70:World Wide Web Server:/Library/WebServer:/usr/bin/false\n",
      "_eppc:*:71:71:Apple Events User:/var/empty:/usr/bin/false\n",
      "_cvs:*:72:72:CVS Server:/var/empty:/usr/bin/false\n",
      "_svn:*:73:73:SVN Server:/var/empty:/usr/bin/false\n",
      "_mysql:*:74:74:MySQL Server:/var/empty:/usr/bin/false\n",
      "_sshd:*:75:75:sshd Privilege separation:/var/empty:/usr/bin/false\n",
      "_qtss:*:76:76:QuickTime Streaming Server:/var/empty:/usr/bin/false\n",
      "_cyrus:*:77:6:Cyrus Administrator:/var/imap:/usr/bin/false\n",
      "_mailman:*:78:78:Mailman List Server:/var/empty:/usr/bin/false\n",
      "_appserver:*:79:79:Application Server:/var/empty:/usr/bin/false\n",
      "_clamav:*:82:82:ClamAV Daemon:/var/virusmails:/usr/bin/false\n",
      "_amavisd:*:83:83:AMaViS Daemon:/var/virusmails:/usr/bin/false\n",
      "_jabber:*:84:84:Jabber XMPP Server:/var/empty:/usr/bin/false\n",
      "_appowner:*:87:87:Application Owner:/var/empty:/usr/bin/false\n",
      "_windowserver:*:88:88:WindowServer:/var/empty:/usr/bin/false\n",
      "_spotlight:*:89:89:Spotlight:/var/empty:/usr/bin/false\n",
      "_tokend:*:91:91:Token Daemon:/var/empty:/usr/bin/false\n",
      "_securityagent:*:92:92:SecurityAgent:/var/db/securityagent:/usr/bin/false\n",
      "_calendar:*:93:93:Calendar:/var/empty:/usr/bin/false\n",
      "_teamsserver:*:94:94:TeamsServer:/var/teamsserver:/usr/bin/false\n",
      "_update_sharing:*:95:-2:Update Sharing:/var/empty:/usr/bin/false\n",
      "_installer:*:96:-2:Installer:/var/empty:/usr/bin/false\n",
      "_atsserver:*:97:97:ATS Server:/var/empty:/usr/bin/false\n",
      "_ftp:*:98:-2:FTP Daemon:/var/empty:/usr/bin/false\n",
      "_unknown:*:99:99:Unknown User:/var/empty:/usr/bin/false\n",
      "_softwareupdate:*:200:200:Software Update Service:/var/db/softwareupdate:/usr/bin/false\n",
      "_coreaudiod:*:202:202:Core Audio Daemon:/var/empty:/usr/bin/false\n",
      "_screensaver:*:203:203:Screensaver:/var/empty:/usr/bin/false\n",
      "_locationd:*:205:205:Location Daemon:/var/db/locationd:/usr/bin/false\n",
      "_trustevaluationagent:*:208:208:Trust Evaluation Agent:/var/empty:/usr/bin/false\n",
      "_timezone:*:210:210:AutoTimeZoneDaemon:/var/empty:/usr/bin/false\n",
      "_lda:*:211:211:Local Delivery Agent:/var/empty:/usr/bin/false\n",
      "_cvmsroot:*:212:212:CVMS Root:/var/empty:/usr/bin/false\n",
      "_usbmuxd:*:213:213:iPhone OS Device Helper:/var/db/lockdown:/usr/bin/false\n",
      "_dovecot:*:214:6:Dovecot Administrator:/var/empty:/usr/bin/false\n",
      "_dpaudio:*:215:215:DP Audio:/var/empty:/usr/bin/false\n",
      "_postgres:*:216:216:PostgreSQL Server:/var/empty:/usr/bin/false\n",
      "_krbtgt:*:217:-2:Kerberos Ticket Granting Ticket:/var/empty:/usr/bin/false\n",
      "_kadmin_admin:*:218:-2:Kerberos Admin Service:/var/empty:/usr/bin/false\n",
      "_kadmin_changepw:*:219:-2:Kerberos Change Password Service:/var/empty:/usr/bin/false\n",
      "_devicemgr:*:220:220:Device Management Server:/var/empty:/usr/bin/false\n",
      "_webauthserver:*:221:221:Web Auth Server:/var/empty:/usr/bin/false\n",
      "_netbios:*:222:222:NetBIOS:/var/empty:/usr/bin/false\n",
      "_warmd:*:224:224:Warm Daemon:/var/empty:/usr/bin/false\n",
      "_dovenull:*:227:227:Dovecot Authentication:/var/empty:/usr/bin/false\n",
      "_netstatistics:*:228:228:Network Statistics Daemon:/var/empty:/usr/bin/false\n",
      "_avbdeviced:*:229:-2:Ethernet AVB Device Daemon:/var/empty:/usr/bin/false\n",
      "_krb_krbtgt:*:230:-2:Open Directory Kerberos Ticket Granting Ticket:/var/empty:/usr/bin/false\n",
      "_krb_kadmin:*:231:-2:Open Directory Kerberos Admin Service:/var/empty:/usr/bin/false\n",
      "_krb_changepw:*:232:-2:Open Directory Kerberos Change Password Service:/var/empty:/usr/bin/false\n",
      "_krb_kerberos:*:233:-2:Open Directory Kerberos:/var/empty:/usr/bin/false\n",
      "_krb_anonymous:*:234:-2:Open Directory Kerberos Anonymous:/var/empty:/usr/bin/false\n",
      "_assetcache:*:235:235:Asset Cache Service:/var/empty:/usr/bin/false\n",
      "_coremediaiod:*:236:236:Core Media IO Daemon:/var/empty:/usr/bin/false\n",
      "_launchservicesd:*:239:239:_launchservicesd:/var/empty:/usr/bin/false\n",
      "_iconservices:*:240:240:IconServices:/var/empty:/usr/bin/false\n",
      "_distnote:*:241:241:DistNote:/var/empty:/usr/bin/false\n",
      "_nsurlsessiond:*:242:242:NSURLSession Daemon:/var/db/nsurlsessiond:/usr/bin/false\n",
      "_displaypolicyd:*:244:244:Display Policy Daemon:/var/empty:/usr/bin/false\n",
      "_astris:*:245:245:Astris Services:/var/db/astris:/usr/bin/false\n",
      "_krbfast:*:246:-2:Kerberos FAST Account:/var/empty:/usr/bin/false\n",
      "_gamecontrollerd:*:247:247:Game Controller Daemon:/var/empty:/usr/bin/false\n",
      "_mbsetupuser:*:248:248:Setup User:/var/setup:/bin/bash\n",
      "_ondemand:*:249:249:On Demand Resource Daemon:/var/db/ondemand:/usr/bin/false\n",
      "_xserverdocs:*:251:251:macOS Server Documents Service:/var/empty:/usr/bin/false\n",
      "_wwwproxy:*:252:252:WWW Proxy:/var/empty:/usr/bin/false\n",
      "_mobileasset:*:253:253:MobileAsset User:/var/ma:/usr/bin/false\n",
      "_findmydevice:*:254:254:Find My Device Daemon:/var/db/findmydevice:/usr/bin/false\n",
      "_datadetectors:*:257:257:DataDetectors:/var/db/datadetectors:/usr/bin/false\n",
      "_captiveagent:*:258:258:captiveagent:/var/empty:/usr/bin/false\n",
      "_ctkd:*:259:259:ctkd Account:/var/empty:/usr/bin/false\n",
      "_applepay:*:260:260:applepay Account:/var/db/applepay:/usr/bin/false\n",
      "_hidd:*:261:261:HID Service User:/var/db/hidd:/usr/bin/false\n",
      "_cmiodalassistants:*:262:262:CoreMedia IO Assistants User:/var/db/cmiodalassistants:/usr/bin/false\n",
      "_analyticsd:*:263:263:Analytics Daemon:/var/db/analyticsd:/usr/bin/false\n",
      "_fpsd:*:265:265:FPS Daemon:/var/db/fpsd:/usr/bin/false\n",
      "_timed:*:266:266:Time Sync Daemon:/var/db/timed:/usr/bin/false\n",
      "_nearbyd:*:268:268:Proximity and Ranging Daemon:/var/db/nearbyd:/usr/bin/false\n",
      "_reportmemoryexception:*:269:269:ReportMemoryException:/var/db/reportmemoryexception:/usr/bin/false\n",
      "_driverkit:*:270:270:DriverKit:/var/empty:/usr/bin/false\n",
      "_diskimagesiod:*:271:271:DiskImages IO Daemon:/var/db/diskimagesiod:/usr/bin/false\n",
      "_logd:*:272:272:Log Daemon:/var/db/diagnostics:/usr/bin/false\n",
      "_appinstalld:*:273:273:App Install Daemon:/var/db/appinstalld:/usr/bin/false\n",
      "_installcoordinationd:*:274:274:Install Coordination Daemon:/var/db/installcoordinationd:/usr/bin/false\n",
      "_demod:*:275:275:Demo Daemon:/var/empty:/usr/bin/false\n",
      "_rmd:*:277:277:Remote Management Daemon:/var/db/rmd:/usr/bin/false\n",
      "_accessoryupdater:*:278:278:Accessory Update Daemon:/var/db/accessoryupdater:/usr/bin/false\n",
      "_knowledgegraphd:*:279:279:Knowledge Graph Daemon:/var/db/knowledgegraphd:/usr/bin/false\n",
      "_coreml:*:280:280:CoreML Services:/var/db/coreml:/usr/bin/false\n",
      "_sntpd:*:281:281:SNTP Server Daemon:/var/empty:/usr/bin/false\n",
      "_trustd:*:282:282:trustd:/var/empty:/usr/bin/false\n",
      "_mmaintenanced:*:283:283:mmaintenanced:/var/db/mmaintenanced:/usr/bin/false\n",
      "_darwindaemon:*:284:284:Darwin Daemon:/var/db/darwindaemon:/usr/bin/false\n",
      "_notification_proxy:*:285:285:Notification Proxy:/var/empty:/usr/bin/false\n",
      "_avphidbridge:*:288:288:Apple Virtual Platform HID Bridge:/var/empty:/usr/bin/false\n",
      "_biome:*:289:289:Biome:/var/db/biome:/usr/bin/false\n",
      "_backgroundassets:*:291:291:Background Assets Service:/var/empty:/usr/bin/false\n",
      "_mobilegestalthelper:*:293:293:MobileGestaltHelper:/var/empty:/usr/bin/false\n",
      "_audiomxd:*:294:294:Audio and MediaExperience Daemon:/var/db/audiomxd:/usr/bin/false\n",
      "_terminusd:*:295:295:Terminus:/var/db/terminus:/usr/bin/false\n",
      "_neuralengine:*:296:296:AppleNeuralEngine:/var/db/neuralengine:/usr/bin/false\n",
      "_eligibilityd:*:297:297:OS Eligibility Daemon:/var/db/eligibilityd:/usr/bin/false\n",
      "_systemstatusd:*:298:298:SystemStatus Services:/var/empty:/usr/bin/false\n",
      "_aonsensed:*:300:300:Always On Sense Daemon:/var/db/aonsensed:/usr/bin/false\n",
      "_modelmanagerd:*:301:301:Model Manager:/var/db/modelmanagerd:/usr/bin/false\n",
      "_reportsystemmemory:*:302:302:ReportSystemMemory:/var/empty:/usr/bin/false\n",
      "_swtransparencyd:*:303:303:Software Transparency Services:/var/db/swtransparencyd:/usr/bin/false\n",
      "_naturallanguaged:*:304:304:Natural Language Services:/var/db/com.apple.naturallanguaged:/usr/bin/false\n",
      "_corespeechd:*:306:306:CoreSpeech Services:/var/empty:/usr/bin/false\n",
      "_diagnosticservicesd:*:307:307:Diagnostic Services:/var/empty:/usr/bin/false\n",
      "_oahd:*:441:441:OAH Daemon:/var/empty:/usr/bin/false\n",
      "\n"
     ]
    }
   ],
   "source": [
    "# how can I now read from the file?\n",
    "# option 1: f.read()\n",
    "# the good news? This returns the file's contents as a string\n",
    "# the bad news? This returns the file's contents as a string (even if the file is 20 TB in size!)\n",
    "\n",
    "s = f.read()\n",
    "print(s)"
   ]
  },
  {
   "cell_type": "code",
   "execution_count": 68,
   "metadata": {},
   "outputs": [
    {
     "name": "stdout",
     "output_type": "stream",
     "text": [
      "##\n",
      "# User Database\n",
      "# \n",
      "# Note that this file is consulted directly only when the system is running\n",
      "# in single-user mode.  At other times this information is provided by\n",
      "# Open Directory.\n",
      "#\n",
      "# See the opendirectoryd(8) man page for additional information about\n",
      "# Open Directory.\n",
      "##\n",
      "nobody:*:-2:-2:Unprivileged User:/var/empty:/usr/bin/false\n",
      "root:*:0:0:System Administrator:/var/root:/bin/sh\n",
      "daemon:*:1:1:System Services:/var/root:/usr/bin/false\n",
      "_uucp:*:4:4:Unix to Unix Copy Protocol:/var/spool/uucp:/usr/sbin/uucico\n",
      "_taskgated:*:13:13:Task Gate Daemon:/var/empty:/usr/bin/false\n",
      "_networkd:*:24:24:Network Services:/var/networkd:/usr/bin/false\n",
      "_installassistant:*:25:25:Install Assistant:/var/empty:/usr/bin/false\n",
      "_lp:*:26:26:Printing Services:/var/spool/cups:/usr/bin/false\n",
      "_postfix:*:27:27:Postfix Mail Server:/var/spool/postfix:/usr/bin/false\n",
      "_scsd:*:31:31:Service Configuration Service:/var/empty:/usr/bin/false\n",
      "_ces:*:32:32:Certificate Enrollment Service:/var/empty:/usr/bin/false\n",
      "_appstore:*:33:33:Mac App Store Service:/var/db/appstore:/usr/bin/false\n",
      "_mcxalr:*:54:54:MCX AppLaunch:/var/empty:/usr/bin/false\n",
      "_appleevents:*:55:55:AppleEvents Daemon:/var/empty:/usr/bin/false\n",
      "_geod:*:56:56:Geo Services Daemon:/var/db/geod:/usr/bin/false\n",
      "_devdocs:*:59:59:Developer Documentation:/var/empty:/usr/bin/false\n",
      "_sandbox:*:60:60:Seatbelt:/var/empty:/usr/bin/false\n",
      "_mdnsresponder:*:65:65:mDNSResponder:/var/empty:/usr/bin/false\n",
      "_ard:*:67:67:Apple Remote Desktop:/var/empty:/usr/bin/false\n",
      "_www:*:70:70:World Wide Web Server:/Library/WebServer:/usr/bin/false\n",
      "_eppc:*:71:71:Apple Events User:/var/empty:/usr/bin/false\n",
      "_cvs:*:72:72:CVS Server:/var/empty:/usr/bin/false\n",
      "_svn:*:73:73:SVN Server:/var/empty:/usr/bin/false\n",
      "_mysql:*:74:74:MySQL Server:/var/empty:/usr/bin/false\n",
      "_sshd:*:75:75:sshd Privilege separation:/var/empty:/usr/bin/false\n",
      "_qtss:*:76:76:QuickTime Streaming Server:/var/empty:/usr/bin/false\n",
      "_cyrus:*:77:6:Cyrus Administrator:/var/imap:/usr/bin/false\n",
      "_mailman:*:78:78:Mailman List Server:/var/empty:/usr/bin/false\n",
      "_appserver:*:79:79:Application Server:/var/empty:/usr/bin/false\n",
      "_clamav:*:82:82:ClamAV Daemon:/var/virusmails:/usr/bin/false\n",
      "_amavisd:*:83:83:AMaViS Daemon:/var/virusmails:/usr/bin/false\n",
      "_jabber:*:84:84:Jabber XMPP Server:/var/empty:/usr/bin/false\n",
      "_appowner:*:87:87:Application Owner:/var/empty:/usr/bin/false\n",
      "_windowserver:*:88:88:WindowServer:/var/empty:/usr/bin/false\n",
      "_spotlight:*:89:89:Spotlight:/var/empty:/usr/bin/false\n",
      "_tokend:*:91:91:Token Daemon:/var/empty:/usr/bin/false\n",
      "_securityagent:*:92:92:SecurityAgent:/var/db/securityagent:/usr/bin/false\n",
      "_calendar:*:93:93:Calendar:/var/empty:/usr/bin/false\n",
      "_teamsserver:*:94:94:TeamsServer:/var/teamsserver:/usr/bin/false\n",
      "_update_sharing:*:95:-2:Update Sharing:/var/empty:/usr/bin/false\n",
      "_installer:*:96:-2:Installer:/var/empty:/usr/bin/false\n",
      "_atsserver:*:97:97:ATS Server:/var/empty:/usr/bin/false\n",
      "_ftp:*:98:-2:FTP Daemon:/var/empty:/usr/bin/false\n",
      "_unknown:*:99:99:Unknown User:/var/empty:/usr/bin/false\n",
      "_softwareupdate:*:200:200:Software Update Service:/var/db/softwareupdate:/usr/bin/false\n",
      "_coreaudiod:*:202:202:Core Audio Daemon:/var/empty:/usr/bin/false\n",
      "_screensaver:*:203:203:Screensaver:/var/empty:/usr/bin/false\n",
      "_locationd:*:205:205:Location Daemon:/var/db/locationd:/usr/bin/false\n",
      "_trustevaluationagent:*:208:208:Trust Evaluation Agent:/var/empty:/usr/bin/false\n",
      "_timezone:*:210:210:AutoTimeZoneDaemon:/var/empty:/usr/bin/false\n",
      "_lda:*:211:211:Local Delivery Agent:/var/empty:/usr/bin/false\n",
      "_cvmsroot:*:212:212:CVMS Root:/var/empty:/usr/bin/false\n",
      "_usbmuxd:*:213:213:iPhone OS Device Helper:/var/db/lockdown:/usr/bin/false\n",
      "_dovecot:*:214:6:Dovecot Administrator:/var/empty:/usr/bin/false\n",
      "_dpaudio:*:215:215:DP Audio:/var/empty:/usr/bin/false\n",
      "_postgres:*:216:216:PostgreSQL Server:/var/empty:/usr/bin/false\n",
      "_krbtgt:*:217:-2:Kerberos Ticket Granting Ticket:/var/empty:/usr/bin/false\n",
      "_kadmin_admin:*:218:-2:Kerberos Admin Service:/var/empty:/usr/bin/false\n",
      "_kadmin_changepw:*:219:-2:Kerberos Change Password Service:/var/empty:/usr/bin/false\n",
      "_devicemgr:*:220:220:Device Management Server:/var/empty:/usr/bin/false\n",
      "_webauthserver:*:221:221:Web Auth Server:/var/empty:/usr/bin/false\n",
      "_netbios:*:222:222:NetBIOS:/var/empty:/usr/bin/false\n",
      "_warmd:*:224:224:Warm Daemon:/var/empty:/usr/bin/false\n",
      "_dovenull:*:227:227:Dovecot Authentication:/var/empty:/usr/bin/false\n",
      "_netstatistics:*:228:228:Network Statistics Daemon:/var/empty:/usr/bin/false\n",
      "_avbdeviced:*:229:-2:Ethernet AVB Device Daemon:/var/empty:/usr/bin/false\n",
      "_krb_krbtgt:*:230:-2:Open Directory Kerberos Ticket Granting Ticket:/var/empty:/usr/bin/false\n",
      "_krb_kadmin:*:231:-2:Open Directory Kerberos Admin Service:/var/empty:/usr/bin/false\n",
      "_krb_changepw:*:232:-2:Open Directory Kerberos Change Password Service:/var/empty:/usr/bin/false\n",
      "_krb_kerberos:*:233:-2:Open Directory Kerberos:/var/empty:/usr/bin/false\n",
      "_krb_anonymous:*:234:-2:Open Directory Kerberos Anonymous:/var/empty:/usr/bin/false\n",
      "_assetcache:*:235:235:Asset Cache Service:/var/empty:/usr/bin/false\n",
      "_coremediaiod:*:236:236:Core Media IO Daemon:/var/empty:/usr/bin/false\n",
      "_launchservicesd:*:239:239:_launchservicesd:/var/empty:/usr/bin/false\n",
      "_iconservices:*:240:240:IconServices:/var/empty:/usr/bin/false\n",
      "_distnote:*:241:241:DistNote:/var/empty:/usr/bin/false\n",
      "_nsurlsessiond:*:242:242:NSURLSession Daemon:/var/db/nsurlsessiond:/usr/bin/false\n",
      "_displaypolicyd:*:244:244:Display Policy Daemon:/var/empty:/usr/bin/false\n",
      "_astris:*:245:245:Astris Services:/var/db/astris:/usr/bin/false\n",
      "_krbfast:*:246:-2:Kerberos FAST Account:/var/empty:/usr/bin/false\n",
      "_gamecontrollerd:*:247:247:Game Controller Daemon:/var/empty:/usr/bin/false\n",
      "_mbsetupuser:*:248:248:Setup User:/var/setup:/bin/bash\n",
      "_ondemand:*:249:249:On Demand Resource Daemon:/var/db/ondemand:/usr/bin/false\n",
      "_xserverdocs:*:251:251:macOS Server Documents Service:/var/empty:/usr/bin/false\n",
      "_wwwproxy:*:252:252:WWW Proxy:/var/empty:/usr/bin/false\n",
      "_mobileasset:*:253:253:MobileAsset User:/var/ma:/usr/bin/false\n",
      "_findmydevice:*:254:254:Find My Device Daemon:/var/db/findmydevice:/usr/bin/false\n",
      "_datadetectors:*:257:257:DataDetectors:/var/db/datadetectors:/usr/bin/false\n",
      "_captiveagent:*:258:258:captiveagent:/var/empty:/usr/bin/false\n",
      "_ctkd:*:259:259:ctkd Account:/var/empty:/usr/bin/false\n",
      "_applepay:*:260:260:applepay Account:/var/db/applepay:/usr/bin/false\n",
      "_hidd:*:261:261:HID Service User:/var/db/hidd:/usr/bin/false\n",
      "_cmiodalassistants:*:262:262:CoreMedia IO Assistants User:/var/db/cmiodalassistants:/usr/bin/false\n",
      "_analyticsd:*:263:263:Analytics Daemon:/var/db/analyticsd:/usr/bin/false\n",
      "_fpsd:*:265:265:FPS Daemon:/var/db/fpsd:/usr/bin/false\n",
      "_timed:*:266:266:Time Sync Daemon:/var/db/timed:/usr/bin/false\n",
      "_nearbyd:*:268:268:Proximity and Ranging Daemon:/var/db/nearbyd:/usr/bin/false\n",
      "_reportmemoryexception:*:269:269:ReportMemoryException:/var/db/reportmemoryexception:/usr/bin/false\n",
      "_driverkit:*:270:270:DriverKit:/var/empty:/usr/bin/false\n",
      "_diskimagesiod:*:271:271:DiskImages IO Daemon:/var/db/diskimagesiod:/usr/bin/false\n",
      "_logd:*:272:272:Log Daemon:/var/db/diagnostics:/usr/bin/false\n",
      "_appinstalld:*:273:273:App Install Daemon:/var/db/appinstalld:/usr/bin/false\n",
      "_installcoordinationd:*:274:274:Install Coordination Daemon:/var/db/installcoordinationd:/usr/bin/false\n",
      "_demod:*:275:275:Demo Daemon:/var/empty:/usr/bin/false\n",
      "_rmd:*:277:277:Remote Management Daemon:/var/db/rmd:/usr/bin/false\n",
      "_accessoryupdater:*:278:278:Accessory Update Daemon:/var/db/accessoryupdater:/usr/bin/false\n",
      "_knowledgegraphd:*:279:279:Knowledge Graph Daemon:/var/db/knowledgegraphd:/usr/bin/false\n",
      "_coreml:*:280:280:CoreML Services:/var/db/coreml:/usr/bin/false\n",
      "_sntpd:*:281:281:SNTP Server Daemon:/var/empty:/usr/bin/false\n",
      "_trustd:*:282:282:trustd:/var/empty:/usr/bin/false\n",
      "_mmaintenanced:*:283:283:mmaintenanced:/var/db/mmaintenanced:/usr/bin/false\n",
      "_darwindaemon:*:284:284:Darwin Daemon:/var/db/darwindaemon:/usr/bin/false\n",
      "_notification_proxy:*:285:285:Notification Proxy:/var/empty:/usr/bin/false\n",
      "_avphidbridge:*:288:288:Apple Virtual Platform HID Bridge:/var/empty:/usr/bin/false\n",
      "_biome:*:289:289:Biome:/var/db/biome:/usr/bin/false\n",
      "_backgroundassets:*:291:291:Background Assets Service:/var/empty:/usr/bin/false\n",
      "_mobilegestalthelper:*:293:293:MobileGestaltHelper:/var/empty:/usr/bin/false\n",
      "_audiomxd:*:294:294:Audio and MediaExperience Daemon:/var/db/audiomxd:/usr/bin/false\n",
      "_terminusd:*:295:295:Terminus:/var/db/terminus:/usr/bin/false\n",
      "_neuralengine:*:296:296:AppleNeuralEngine:/var/db/neuralengine:/usr/bin/false\n",
      "_eligibilityd:*:297:297:OS Eligibility Daemon:/var/db/eligibilityd:/usr/bin/false\n",
      "_systemstatusd:*:298:298:SystemStatus Services:/var/empty:/usr/bin/false\n",
      "_aonsensed:*:300:300:Always On Sense Daemon:/var/db/aonsensed:/usr/bin/false\n",
      "_modelmanagerd:*:301:301:Model Manager:/var/db/modelmanagerd:/usr/bin/false\n",
      "_reportsystemmemory:*:302:302:ReportSystemMemory:/var/empty:/usr/bin/false\n",
      "_swtransparencyd:*:303:303:Software Transparency Services:/var/db/swtransparencyd:/usr/bin/false\n",
      "_naturallanguaged:*:304:304:Natural Language Services:/var/db/com.apple.naturallanguaged:/usr/bin/false\n",
      "_corespeechd:*:306:306:CoreSpeech Services:/var/empty:/usr/bin/false\n",
      "_diagnosticservicesd:*:307:307:Diagnostic Services:/var/empty:/usr/bin/false\n",
      "_oahd:*:441:441:OAH Daemon:/var/empty:/usr/bin/false\n"
     ]
    }
   ],
   "source": [
    "# option 2: f.read(n)\n",
    "# this returns a string of the next n characters from the file\\\n",
    "# the good news? We have control!\n",
    "# the bad news: this has nothing to do with the lines of the file, which are often important\n",
    "# other bad news: I have to keep reading until I get the empty string, indicating I'm done\n",
    "\n",
    "f = open('/etc/passwd')\n",
    "while True:\n",
    "    s = f.read(100)\n",
    "\n",
    "    if s == '':  # didn't get anything? break\n",
    "        break\n",
    "\n",
    "    print(s, end='')  # don't add a newline after printing\n"
   ]
  },
  {
   "cell_type": "code",
   "execution_count": 70,
   "metadata": {},
   "outputs": [
    {
     "name": "stdout",
     "output_type": "stream",
     "text": [
      "##\n",
      "# User Database\n",
      "#\n",
      "# Note that this file is consulted directly only when the system is running\n",
      "# in single-user mode.  At other times this information is provided by\n",
      "# Open Directory.\n",
      "#\n",
      "# See the opendirectoryd(8) man page for additional information about\n",
      "# Open Directory.\n",
      "##\n",
      "nobody:*:-2:-2:Unprivileged User:/var/empty:/usr/bin/false\n",
      "root:*:0:0:System Administrator:/var/root:/bin/sh\n",
      "daemon:*:1:1:System Services:/var/root:/usr/bin/false\n",
      "_uucp:*:4:4:Unix to Unix Copy Protocol:/var/spool/uucp:/usr/sbin/uucico\n",
      "_taskgated:*:13:13:Task Gate Daemon:/var/empty:/usr/bin/false\n",
      "_networkd:*:24:24:Network Services:/var/networkd:/usr/bin/false\n",
      "_installassistant:*:25:25:Install Assistant:/var/empty:/usr/bin/false\n",
      "_lp:*:26:26:Printing Services:/var/spool/cups:/usr/bin/false\n",
      "_postfix:*:27:27:Postfix Mail Server:/var/spool/postfix:/usr/bin/false\n",
      "_scsd:*:31:31:Service Configuration Service:/var/empty:/usr/bin/false\n",
      "_ces:*:32:32:Certificate Enrollment Service:/var/empty:/usr/bin/false\n",
      "_appstore:*:33:33:Mac App Store Service:/var/db/appstore:/usr/bin/false\n",
      "_mcxalr:*:54:54:MCX AppLaunch:/var/empty:/usr/bin/false\n",
      "_appleevents:*:55:55:AppleEvents Daemon:/var/empty:/usr/bin/false\n",
      "_geod:*:56:56:Geo Services Daemon:/var/db/geod:/usr/bin/false\n",
      "_devdocs:*:59:59:Developer Documentation:/var/empty:/usr/bin/false\n",
      "_sandbox:*:60:60:Seatbelt:/var/empty:/usr/bin/false\n",
      "_mdnsresponder:*:65:65:mDNSResponder:/var/empty:/usr/bin/false\n",
      "_ard:*:67:67:Apple Remote Desktop:/var/empty:/usr/bin/false\n",
      "_www:*:70:70:World Wide Web Server:/Library/WebServer:/usr/bin/false\n",
      "_eppc:*:71:71:Apple Events User:/var/empty:/usr/bin/false\n",
      "_cvs:*:72:72:CVS Server:/var/empty:/usr/bin/false\n",
      "_svn:*:73:73:SVN Server:/var/empty:/usr/bin/false\n",
      "_mysql:*:74:74:MySQL Server:/var/empty:/usr/bin/false\n",
      "_sshd:*:75:75:sshd Privilege separation:/var/empty:/usr/bin/false\n",
      "_qtss:*:76:76:QuickTime Streaming Server:/var/empty:/usr/bin/false\n",
      "_cyrus:*:77:6:Cyrus Administrator:/var/imap:/usr/bin/false\n",
      "_mailman:*:78:78:Mailman List Server:/var/empty:/usr/bin/false\n",
      "_appserver:*:79:79:Application Server:/var/empty:/usr/bin/false\n",
      "_clamav:*:82:82:ClamAV Daemon:/var/virusmails:/usr/bin/false\n",
      "_amavisd:*:83:83:AMaViS Daemon:/var/virusmails:/usr/bin/false\n",
      "_jabber:*:84:84:Jabber XMPP Server:/var/empty:/usr/bin/false\n",
      "_appowner:*:87:87:Application Owner:/var/empty:/usr/bin/false\n",
      "_windowserver:*:88:88:WindowServer:/var/empty:/usr/bin/false\n",
      "_spotlight:*:89:89:Spotlight:/var/empty:/usr/bin/false\n",
      "_tokend:*:91:91:Token Daemon:/var/empty:/usr/bin/false\n",
      "_securityagent:*:92:92:SecurityAgent:/var/db/securityagent:/usr/bin/false\n",
      "_calendar:*:93:93:Calendar:/var/empty:/usr/bin/false\n",
      "_teamsserver:*:94:94:TeamsServer:/var/teamsserver:/usr/bin/false\n",
      "_update_sharing:*:95:-2:Update Sharing:/var/empty:/usr/bin/false\n",
      "_installer:*:96:-2:Installer:/var/empty:/usr/bin/false\n",
      "_atsserver:*:97:97:ATS Server:/var/empty:/usr/bin/false\n",
      "_ftp:*:98:-2:FTP Daemon:/var/empty:/usr/bin/false\n",
      "_unknown:*:99:99:Unknown User:/var/empty:/usr/bin/false\n",
      "_softwareupdate:*:200:200:Software Update Service:/var/db/softwareupdate:/usr/bin/false\n",
      "_coreaudiod:*:202:202:Core Audio Daemon:/var/empty:/usr/bin/false\n",
      "_screensaver:*:203:203:Screensaver:/var/empty:/usr/bin/false\n",
      "_locationd:*:205:205:Location Daemon:/var/db/locationd:/usr/bin/false\n",
      "_trustevaluationagent:*:208:208:Trust Evaluation Agent:/var/empty:/usr/bin/false\n",
      "_timezone:*:210:210:AutoTimeZoneDaemon:/var/empty:/usr/bin/false\n",
      "_lda:*:211:211:Local Delivery Agent:/var/empty:/usr/bin/false\n",
      "_cvmsroot:*:212:212:CVMS Root:/var/empty:/usr/bin/false\n",
      "_usbmuxd:*:213:213:iPhone OS Device Helper:/var/db/lockdown:/usr/bin/false\n",
      "_dovecot:*:214:6:Dovecot Administrator:/var/empty:/usr/bin/false\n",
      "_dpaudio:*:215:215:DP Audio:/var/empty:/usr/bin/false\n",
      "_postgres:*:216:216:PostgreSQL Server:/var/empty:/usr/bin/false\n",
      "_krbtgt:*:217:-2:Kerberos Ticket Granting Ticket:/var/empty:/usr/bin/false\n",
      "_kadmin_admin:*:218:-2:Kerberos Admin Service:/var/empty:/usr/bin/false\n",
      "_kadmin_changepw:*:219:-2:Kerberos Change Password Service:/var/empty:/usr/bin/false\n",
      "_devicemgr:*:220:220:Device Management Server:/var/empty:/usr/bin/false\n",
      "_webauthserver:*:221:221:Web Auth Server:/var/empty:/usr/bin/false\n",
      "_netbios:*:222:222:NetBIOS:/var/empty:/usr/bin/false\n",
      "_warmd:*:224:224:Warm Daemon:/var/empty:/usr/bin/false\n",
      "_dovenull:*:227:227:Dovecot Authentication:/var/empty:/usr/bin/false\n",
      "_netstatistics:*:228:228:Network Statistics Daemon:/var/empty:/usr/bin/false\n",
      "_avbdeviced:*:229:-2:Ethernet AVB Device Daemon:/var/empty:/usr/bin/false\n",
      "_krb_krbtgt:*:230:-2:Open Directory Kerberos Ticket Granting Ticket:/var/empty:/usr/bin/false\n",
      "_krb_kadmin:*:231:-2:Open Directory Kerberos Admin Service:/var/empty:/usr/bin/false\n",
      "_krb_changepw:*:232:-2:Open Directory Kerberos Change Password Service:/var/empty:/usr/bin/false\n",
      "_krb_kerberos:*:233:-2:Open Directory Kerberos:/var/empty:/usr/bin/false\n",
      "_krb_anonymous:*:234:-2:Open Directory Kerberos Anonymous:/var/empty:/usr/bin/false\n",
      "_assetcache:*:235:235:Asset Cache Service:/var/empty:/usr/bin/false\n",
      "_coremediaiod:*:236:236:Core Media IO Daemon:/var/empty:/usr/bin/false\n",
      "_launchservicesd:*:239:239:_launchservicesd:/var/empty:/usr/bin/false\n",
      "_iconservices:*:240:240:IconServices:/var/empty:/usr/bin/false\n",
      "_distnote:*:241:241:DistNote:/var/empty:/usr/bin/false\n",
      "_nsurlsessiond:*:242:242:NSURLSession Daemon:/var/db/nsurlsessiond:/usr/bin/false\n",
      "_displaypolicyd:*:244:244:Display Policy Daemon:/var/empty:/usr/bin/false\n",
      "_astris:*:245:245:Astris Services:/var/db/astris:/usr/bin/false\n",
      "_krbfast:*:246:-2:Kerberos FAST Account:/var/empty:/usr/bin/false\n",
      "_gamecontrollerd:*:247:247:Game Controller Daemon:/var/empty:/usr/bin/false\n",
      "_mbsetupuser:*:248:248:Setup User:/var/setup:/bin/bash\n",
      "_ondemand:*:249:249:On Demand Resource Daemon:/var/db/ondemand:/usr/bin/false\n",
      "_xserverdocs:*:251:251:macOS Server Documents Service:/var/empty:/usr/bin/false\n",
      "_wwwproxy:*:252:252:WWW Proxy:/var/empty:/usr/bin/false\n",
      "_mobileasset:*:253:253:MobileAsset User:/var/ma:/usr/bin/false\n",
      "_findmydevice:*:254:254:Find My Device Daemon:/var/db/findmydevice:/usr/bin/false\n",
      "_datadetectors:*:257:257:DataDetectors:/var/db/datadetectors:/usr/bin/false\n",
      "_captiveagent:*:258:258:captiveagent:/var/empty:/usr/bin/false\n",
      "_ctkd:*:259:259:ctkd Account:/var/empty:/usr/bin/false\n",
      "_applepay:*:260:260:applepay Account:/var/db/applepay:/usr/bin/false\n",
      "_hidd:*:261:261:HID Service User:/var/db/hidd:/usr/bin/false\n",
      "_cmiodalassistants:*:262:262:CoreMedia IO Assistants User:/var/db/cmiodalassistants:/usr/bin/false\n",
      "_analyticsd:*:263:263:Analytics Daemon:/var/db/analyticsd:/usr/bin/false\n",
      "_fpsd:*:265:265:FPS Daemon:/var/db/fpsd:/usr/bin/false\n",
      "_timed:*:266:266:Time Sync Daemon:/var/db/timed:/usr/bin/false\n",
      "_nearbyd:*:268:268:Proximity and Ranging Daemon:/var/db/nearbyd:/usr/bin/false\n",
      "_reportmemoryexception:*:269:269:ReportMemoryException:/var/db/reportmemoryexception:/usr/bin/false\n",
      "_driverkit:*:270:270:DriverKit:/var/empty:/usr/bin/false\n",
      "_diskimagesiod:*:271:271:DiskImages IO Daemon:/var/db/diskimagesiod:/usr/bin/false\n",
      "_logd:*:272:272:Log Daemon:/var/db/diagnostics:/usr/bin/false\n",
      "_appinstalld:*:273:273:App Install Daemon:/var/db/appinstalld:/usr/bin/false\n",
      "_installcoordinationd:*:274:274:Install Coordination Daemon:/var/db/installcoordinationd:/usr/bin/false\n",
      "_demod:*:275:275:Demo Daemon:/var/empty:/usr/bin/false\n",
      "_rmd:*:277:277:Remote Management Daemon:/var/db/rmd:/usr/bin/false\n",
      "_accessoryupdater:*:278:278:Accessory Update Daemon:/var/db/accessoryupdater:/usr/bin/false\n",
      "_knowledgegraphd:*:279:279:Knowledge Graph Daemon:/var/db/knowledgegraphd:/usr/bin/false\n",
      "_coreml:*:280:280:CoreML Services:/var/db/coreml:/usr/bin/false\n",
      "_sntpd:*:281:281:SNTP Server Daemon:/var/empty:/usr/bin/false\n",
      "_trustd:*:282:282:trustd:/var/empty:/usr/bin/false\n",
      "_mmaintenanced:*:283:283:mmaintenanced:/var/db/mmaintenanced:/usr/bin/false\n",
      "_darwindaemon:*:284:284:Darwin Daemon:/var/db/darwindaemon:/usr/bin/false\n",
      "_notification_proxy:*:285:285:Notification Proxy:/var/empty:/usr/bin/false\n",
      "_avphidbridge:*:288:288:Apple Virtual Platform HID Bridge:/var/empty:/usr/bin/false\n",
      "_biome:*:289:289:Biome:/var/db/biome:/usr/bin/false\n",
      "_backgroundassets:*:291:291:Background Assets Service:/var/empty:/usr/bin/false\n",
      "_mobilegestalthelper:*:293:293:MobileGestaltHelper:/var/empty:/usr/bin/false\n",
      "_audiomxd:*:294:294:Audio and MediaExperience Daemon:/var/db/audiomxd:/usr/bin/false\n",
      "_terminusd:*:295:295:Terminus:/var/db/terminus:/usr/bin/false\n",
      "_neuralengine:*:296:296:AppleNeuralEngine:/var/db/neuralengine:/usr/bin/false\n",
      "_eligibilityd:*:297:297:OS Eligibility Daemon:/var/db/eligibilityd:/usr/bin/false\n",
      "_systemstatusd:*:298:298:SystemStatus Services:/var/empty:/usr/bin/false\n",
      "_aonsensed:*:300:300:Always On Sense Daemon:/var/db/aonsensed:/usr/bin/false\n",
      "_modelmanagerd:*:301:301:Model Manager:/var/db/modelmanagerd:/usr/bin/false\n",
      "_reportsystemmemory:*:302:302:ReportSystemMemory:/var/empty:/usr/bin/false\n",
      "_swtransparencyd:*:303:303:Software Transparency Services:/var/db/swtransparencyd:/usr/bin/false\n",
      "_naturallanguaged:*:304:304:Natural Language Services:/var/db/com.apple.naturallanguaged:/usr/bin/false\n",
      "_corespeechd:*:306:306:CoreSpeech Services:/var/empty:/usr/bin/false\n",
      "_diagnosticservicesd:*:307:307:Diagnostic Services:/var/empty:/usr/bin/false\n",
      "_oahd:*:441:441:OAH Daemon:/var/empty:/usr/bin/false\n"
     ]
    }
   ],
   "source": [
    "# option 3: iterate over the file object\n",
    "# with each iteration, we'll get a string -- up to and including the next \\n character\n",
    "# we're guaranteed not to use too much memory\n",
    "# and the lines of the file usually make sense, too.\n",
    "\n",
    "for one_line in open('/etc/passwd'):\n",
    "    print(one_line.strip())"
   ]
  },
  {
   "cell_type": "code",
   "execution_count": 73,
   "metadata": {},
   "outputs": [
    {
     "name": "stdout",
     "output_type": "stream",
     "text": [
      "nobody\n",
      "root\n",
      "daemon\n",
      "_uucp\n",
      "_taskgated\n",
      "_networkd\n",
      "_installassistant\n",
      "_lp\n",
      "_postfix\n",
      "_scsd\n",
      "_ces\n",
      "_appstore\n",
      "_mcxalr\n",
      "_appleevents\n",
      "_geod\n",
      "_devdocs\n",
      "_sandbox\n",
      "_mdnsresponder\n",
      "_ard\n",
      "_www\n",
      "_eppc\n",
      "_cvs\n",
      "_svn\n",
      "_mysql\n",
      "_sshd\n",
      "_qtss\n",
      "_cyrus\n",
      "_mailman\n",
      "_appserver\n",
      "_clamav\n",
      "_amavisd\n",
      "_jabber\n",
      "_appowner\n",
      "_windowserver\n",
      "_spotlight\n",
      "_tokend\n",
      "_securityagent\n",
      "_calendar\n",
      "_teamsserver\n",
      "_update_sharing\n",
      "_installer\n",
      "_atsserver\n",
      "_ftp\n",
      "_unknown\n",
      "_softwareupdate\n",
      "_coreaudiod\n",
      "_screensaver\n",
      "_locationd\n",
      "_trustevaluationagent\n",
      "_timezone\n",
      "_lda\n",
      "_cvmsroot\n",
      "_usbmuxd\n",
      "_dovecot\n",
      "_dpaudio\n",
      "_postgres\n",
      "_krbtgt\n",
      "_kadmin_admin\n",
      "_kadmin_changepw\n",
      "_devicemgr\n",
      "_webauthserver\n",
      "_netbios\n",
      "_warmd\n",
      "_dovenull\n",
      "_netstatistics\n",
      "_avbdeviced\n",
      "_krb_krbtgt\n",
      "_krb_kadmin\n",
      "_krb_changepw\n",
      "_krb_kerberos\n",
      "_krb_anonymous\n",
      "_assetcache\n",
      "_coremediaiod\n",
      "_launchservicesd\n",
      "_iconservices\n",
      "_distnote\n",
      "_nsurlsessiond\n",
      "_displaypolicyd\n",
      "_astris\n",
      "_krbfast\n",
      "_gamecontrollerd\n",
      "_mbsetupuser\n",
      "_ondemand\n",
      "_xserverdocs\n",
      "_wwwproxy\n",
      "_mobileasset\n",
      "_findmydevice\n",
      "_datadetectors\n",
      "_captiveagent\n",
      "_ctkd\n",
      "_applepay\n",
      "_hidd\n",
      "_cmiodalassistants\n",
      "_analyticsd\n",
      "_fpsd\n",
      "_timed\n",
      "_nearbyd\n",
      "_reportmemoryexception\n",
      "_driverkit\n",
      "_diskimagesiod\n",
      "_logd\n",
      "_appinstalld\n",
      "_installcoordinationd\n",
      "_demod\n",
      "_rmd\n",
      "_accessoryupdater\n",
      "_knowledgegraphd\n",
      "_coreml\n",
      "_sntpd\n",
      "_trustd\n",
      "_mmaintenanced\n",
      "_darwindaemon\n",
      "_notification_proxy\n",
      "_avphidbridge\n",
      "_biome\n",
      "_backgroundassets\n",
      "_mobilegestalthelper\n",
      "_audiomxd\n",
      "_terminusd\n",
      "_neuralengine\n",
      "_eligibilityd\n",
      "_systemstatusd\n",
      "_aonsensed\n",
      "_modelmanagerd\n",
      "_reportsystemmemory\n",
      "_swtransparencyd\n",
      "_naturallanguaged\n",
      "_corespeechd\n",
      "_diagnosticservicesd\n",
      "_oahd\n"
     ]
    }
   ],
   "source": [
    "# I want to print all of the usernames in /etc/passwd\n",
    "\n",
    "for one_line in open('/etc/passwd'):\n",
    "    if one_line[0] == '#':\n",
    "        continue\n",
    "    print(one_line.split(':')[0])"
   ]
  },
  {
   "cell_type": "markdown",
   "metadata": {},
   "source": [
    "# Exercise: IP addresses\n",
    "\n",
    "1. Create a dict, `counts`. The keys will be strings (IP addresses), and the values will be integers, the number of times that each IP address made a request to our server in this file\n",
    "2. Iterate over this file, one line at a time. Grab the IP address from the front of each line:\n",
    "    - If this is the first time we're seeing an IP address, add the address and 1 as a new key-value pair\n",
    "    - Otherwise, add 1 to the existing value\n",
    "3. Iterate over the keys and values in `counts`, and print each IP address and the number of times it accessed our server."
   ]
  },
  {
   "cell_type": "code",
   "execution_count": 74,
   "metadata": {},
   "outputs": [
    {
     "name": "stdout",
     "output_type": "stream",
     "text": [
      "67.218.116.165 - - [30/Jan/2010:00:03:18 +0200] \"GET /robots.txt HTTP/1.0\" 200 99 \"-\" \"Mozilla/5.0 (Twiceler-0.9 http://www.cuil.com/twiceler/robot.html)\"\n",
      "66.249.71.65 - - [30/Jan/2010:00:12:06 +0200] \"GET /browse/one_node/1557 HTTP/1.1\" 200 39208 \"-\" \"Mozilla/5.0 (compatible; Googlebot/2.1; +http://www.google.com/bot.html)\"\n",
      "65.55.106.183 - - [30/Jan/2010:01:29:23 +0200] \"GET /robots.txt HTTP/1.1\" 200 99 \"-\" \"msnbot/2.0b (+http://search.msn.com/msnbot.htm)\"\n",
      "65.55.106.183 - - [30/Jan/2010:01:30:06 +0200] \"GET /browse/one_model/2162 HTTP/1.1\" 200 2181 \"-\" \"msnbot/2.0b (+http://search.msn.com/msnbot.htm)\"\n",
      "66.249.71.65 - - [30/Jan/2010:02:07:14 +0200] \"GET /browse/browse_applet_tab/2593 HTTP/1.1\" 200 10305 \"-\" \"Mozilla/5.0 (compatible; Googlebot/2.1; +http://www.google.com/bot.html)\"\n",
      "66.249.71.65 - - [30/Jan/2010:02:10:39 +0200] \"GET /browse/browse_files_tab/2499?tab=true HTTP/1.1\" 200 446 \"-\" \"Mozilla/5.0 (compatible; Googlebot/2.1; +http://www.google.com/bot.html)\"\n",
      "66.249.65.12 - - [30/Jan/2010:03:13:34 +0200] \"GET /robots.txt HTTP/1.1\" 200 99 \"-\" \"Mozilla/5.0 (compatible; Googlebot/2.1; +http://www.google.com/bot.html)\"\n",
      "66.249.65.12 - - [30/Jan/2010:03:13:34 +0200] \"GET /browse/one_node/2715 HTTP/1.1\" 200 26433 \"-\" \"Mozilla/5.0 (compatible; Googlebot/2.1; +http://www.google.com/bot.html)\"\n",
      "66.249.65.12 - - [30/Jan/2010:03:43:39 +0200] \"GET /browse/download_model/1969 HTTP/1.1\" 200 31713 \"-\" \"Mozilla/5.0 (compatible; Googlebot/2.1; +http://www.google.com/bot.html)\"\n",
      "66.249.65.12 - - [30/Jan/2010:04:05:43 +0200] \"GET /browse/one_node/1406 HTTP/1.1\" 302 118 \"-\" \"Mozilla/5.0 (compatible; Googlebot/2.1; +http://www.google.com/bot.html)\"\n"
     ]
    }
   ],
   "source": [
    "# Execute the Unix \"head\" command on mini-access-log.txt\n",
    "\n",
    "!head mini-access-log.txt"
   ]
  },
  {
   "cell_type": "code",
   "execution_count": 78,
   "metadata": {},
   "outputs": [
    {
     "name": "stdout",
     "output_type": "stream",
     "text": [
      "67.218.116.165\t2\n",
      "66.249.71.65\t3\n",
      "65.55.106.183\t2\n",
      "66.249.65.12\t32\n",
      "65.55.106.131\t2\n",
      "65.55.106.186\t2\n",
      "74.52.245.146\t2\n",
      "66.249.65.43\t3\n",
      "65.55.207.25\t2\n",
      "65.55.207.94\t2\n",
      "65.55.207.71\t1\n",
      "98.242.170.241\t1\n",
      "66.249.65.38\t100\n",
      "65.55.207.126\t2\n",
      "82.34.9.20\t2\n",
      "65.55.106.155\t2\n",
      "65.55.207.77\t2\n",
      "208.80.193.28\t1\n",
      "89.248.172.58\t22\n",
      "67.195.112.35\t16\n",
      "65.55.207.50\t3\n",
      "65.55.215.75\t2\n"
     ]
    }
   ],
   "source": [
    "counts = {}\n",
    "\n",
    "for one_line in open('mini-access-log.txt'):\n",
    "    ip_address = one_line.split()[0]   # grab the IP address\n",
    "\n",
    "    if ip_address in counts:  # if it's already a key in counts\n",
    "        counts[ip_address] += 1\n",
    "    else:\n",
    "        counts[ip_address] = 1\n",
    "\n",
    "for key, value in counts.items():\n",
    "    print(f'{key}\\t{value}')"
   ]
  },
  {
   "cell_type": "code",
   "execution_count": 79,
   "metadata": {},
   "outputs": [
    {
     "ename": "TypeError",
     "evalue": "can only concatenate str (not \"int\") to str",
     "output_type": "error",
     "traceback": [
      "\u001b[0;31m---------------------------------------------------------------------------\u001b[0m",
      "\u001b[0;31mTypeError\u001b[0m                                 Traceback (most recent call last)",
      "Cell \u001b[0;32mIn[79], line 3\u001b[0m\n\u001b[1;32m      1\u001b[0m \u001b[38;5;66;03m# you might remember\u001b[39;00m\n\u001b[0;32m----> 3\u001b[0m \u001b[38;5;124;43m'\u001b[39;49m\u001b[38;5;124;43ma\u001b[39;49m\u001b[38;5;124;43m'\u001b[39;49m\u001b[43m \u001b[49m\u001b[38;5;241;43m+\u001b[39;49m\u001b[43m \u001b[49m\u001b[38;5;241;43m3\u001b[39;49m\n",
      "\u001b[0;31mTypeError\u001b[0m: can only concatenate str (not \"int\") to str"
     ]
    }
   ],
   "source": [
    "# you might remember\n",
    "\n",
    "'a' + 3"
   ]
  },
  {
   "cell_type": "code",
   "execution_count": 80,
   "metadata": {},
   "outputs": [
    {
     "data": {
      "text/plain": [
       "'aaa'"
      ]
     },
     "execution_count": 80,
     "metadata": {},
     "output_type": "execute_result"
    }
   ],
   "source": [
    "'a' * 3"
   ]
  },
  {
   "cell_type": "code",
   "execution_count": 81,
   "metadata": {},
   "outputs": [
    {
     "name": "stdout",
     "output_type": "stream",
     "text": [
      "67.218.116.165\txx\n",
      "66.249.71.65\txxx\n",
      "65.55.106.183\txx\n",
      "66.249.65.12\txxxxxxxxxxxxxxxxxxxxxxxxxxxxxxxx\n",
      "65.55.106.131\txx\n",
      "65.55.106.186\txx\n",
      "74.52.245.146\txx\n",
      "66.249.65.43\txxx\n",
      "65.55.207.25\txx\n",
      "65.55.207.94\txx\n",
      "65.55.207.71\tx\n",
      "98.242.170.241\tx\n",
      "66.249.65.38\txxxxxxxxxxxxxxxxxxxxxxxxxxxxxxxxxxxxxxxxxxxxxxxxxxxxxxxxxxxxxxxxxxxxxxxxxxxxxxxxxxxxxxxxxxxxxxxxxxxx\n",
      "65.55.207.126\txx\n",
      "82.34.9.20\txx\n",
      "65.55.106.155\txx\n",
      "65.55.207.77\txx\n",
      "208.80.193.28\tx\n",
      "89.248.172.58\txxxxxxxxxxxxxxxxxxxxxx\n",
      "67.195.112.35\txxxxxxxxxxxxxxxx\n",
      "65.55.207.50\txxx\n",
      "65.55.215.75\txx\n"
     ]
    }
   ],
   "source": [
    "# slight variation on our program\n",
    "\n",
    "counts = {}\n",
    "\n",
    "for one_line in open('mini-access-log.txt'):\n",
    "    ip_address = one_line.split()[0]   # grab the IP address\n",
    "\n",
    "    if ip_address in counts:  # if it's already a key in counts\n",
    "        counts[ip_address] += 1\n",
    "    else:\n",
    "        counts[ip_address] = 1\n",
    "\n",
    "for key, value in counts.items():\n",
    "    print(f'{key}\\t{value * \"x\"}')"
   ]
  },
  {
   "cell_type": "markdown",
   "metadata": {},
   "source": [
    "# Next up\n",
    "\n",
    "1. More iterating over files (and what we can do with them)\n",
    "2. Writing to files\n",
    "3. The `with` construct, and how it helps us"
   ]
  },
  {
   "cell_type": "code",
   "execution_count": 82,
   "metadata": {},
   "outputs": [
    {
     "name": "stdout",
     "output_type": "stream",
     "text": [
      "5\n",
      "\t10     \n",
      "\t20\n",
      "  \t3\n",
      "\t\t   \t20        \n",
      "\n",
      " 25\n"
     ]
    }
   ],
   "source": [
    "!cat nums.txt"
   ]
  },
  {
   "cell_type": "markdown",
   "metadata": {},
   "source": [
    "# Exercise: Sum numbers\n",
    "\n",
    "1. Set the variable `total` to be 0\n",
    "2. Iterate over `nums.txt`\n",
    "3. If there is a number on that line, add it to `total`\n",
    "4. Print `total`"
   ]
  },
  {
   "cell_type": "code",
   "execution_count": 87,
   "metadata": {},
   "outputs": [
    {
     "name": "stdout",
     "output_type": "stream",
     "text": [
      "83\n"
     ]
    }
   ],
   "source": [
    "total = 0\n",
    "\n",
    "for one_line in open('nums.txt'):\n",
    "\n",
    "    # ignore lines that only contain whitespace\n",
    "    # if one_line.strip() == '':\n",
    "    #     continue\n",
    "\n",
    "    # ignore lines unless after stripping they are isdigit\n",
    "    if not one_line.strip().isdigit():\n",
    "        continue\n",
    "\n",
    "    total += int(one_line.strip())\n",
    "\n",
    "print(total)    "
   ]
  },
  {
   "cell_type": "markdown",
   "metadata": {},
   "source": [
    "I still can not operating with files, I've  got error: > 2627 self.user_ns['_exit_code'] = system(self.var_expand(cmd, depth=1))\n",
    "\n",
    "File /lib/python3.13/site-packages/IPython/utils/_process_emscripten.py:10, in system(cmd)\n",
    "      9 def system(cmd):\n",
    "---> 10     raise OSError(\"Not available\")\n",
    "\n",
    "OSError: Not available "
   ]
  },
  {
   "cell_type": "markdown",
   "metadata": {},
   "source": [
    "# Writing to files\n",
    "\n",
    "If we want to write to a file, we need to indicate this when we `open` the file. By default, when we open a file, it's open for *reading*.\n",
    "\n",
    "If you want to open a file for writing, you need to pass `'w'` as the second argument to open:\n",
    "\n",
    "    f = open('myfile.txt', 'w')\n",
    "\n",
    "There are two possible results for invoking `open` with `'w'`:\n",
    "\n",
    "1. The file is opened for writing, and you can do so via the `f` variable. Also, any previous contents in that same file are now gone; the file contains 0 bytes/characters.\n",
    "2. We get an error indicating that we couldn't open the file for writing.\n",
    "\n"
   ]
  },
  {
   "cell_type": "code",
   "execution_count": 88,
   "metadata": {},
   "outputs": [
    {
     "data": {
      "text/plain": [
       "23"
      ]
     },
     "execution_count": 88,
     "metadata": {},
     "output_type": "execute_result"
    }
   ],
   "source": [
    "f = open('myfile.txt', 'w')\n",
    "\n",
    "f.write('this is the first line\\n')  # f.write does *not* automatically end what we write with a newline!\n",
    "f.write('and this is the second\\n')\n",
    "f.write('and this is the third!\\n')"
   ]
  },
  {
   "cell_type": "code",
   "execution_count": 89,
   "metadata": {},
   "outputs": [],
   "source": [
    "# I'll use the Unix command \"cat\" to view the file's contents\n",
    "\n",
    "!cat myfile.txt"
   ]
  },
  {
   "cell_type": "code",
   "execution_count": null,
   "metadata": {},
   "outputs": [],
   "source": []
  },
  {
   "cell_type": "markdown",
   "metadata": {},
   "source": [
    "What's going on?\n",
    "\n",
    "When we use `f.write`, we think that we're writing to the file. But really, we're asking the OS to write to the file, and it usually says \"no.\" \n",
    "\n",
    "Instead, the OS usually writes values to a \"buffer\" in memory. That buffer is very fast, and when it fills up, we then \"flush\" it to the disk all at once.\n",
    "\n",
    "We can manually flush the buffer with the `f.flush()` method.\n",
    "\n",
    "Or we can tell the OS that we're done with this file, and we can invoke the `f.close()` method, which flushes before closing.\n",
    "\n",
    "Or we can wait until our program (or Jupyter) exits, at which point all files are flushed and closed."
   ]
  },
  {
   "cell_type": "code",
   "execution_count": 90,
   "metadata": {},
   "outputs": [],
   "source": [
    "f.close()"
   ]
  },
  {
   "cell_type": "code",
   "execution_count": 91,
   "metadata": {},
   "outputs": [
    {
     "name": "stdout",
     "output_type": "stream",
     "text": [
      "this is the first line\n",
      "and this is the second\n",
      "and this is the third!\n"
     ]
    }
   ],
   "source": [
    "!cat myfile.txt"
   ]
  },
  {
   "cell_type": "markdown",
   "metadata": {},
   "source": [
    "# What does this mean?\n",
    "\n",
    "1. If you are writing to a file, then you should make sure that the file's contents are flushed and/or closed on a regular basis.\n",
    "2. Another way, though, is to have Python automatically flush and close the file when you're done with it."
   ]
  },
  {
   "cell_type": "code",
   "execution_count": 92,
   "metadata": {},
   "outputs": [],
   "source": [
    "# this is the \"with\" construct\n",
    "\n",
    "with open('myfile.txt', 'w') as f:    # here, we're assigning the open file to f -- just like before!\n",
    "    f.write('**this is the first line\\n')  # f.write does *not* automatically end what we write with a newline!\n",
    "    f.write('**and this is the second\\n')\n",
    "    f.write('**and this is the third!\\n')    \n",
    "\n",
    "    # just before finishing the with block, Python will automatically flush + close our file"
   ]
  },
  {
   "cell_type": "code",
   "execution_count": 93,
   "metadata": {},
   "outputs": [
    {
     "name": "stdout",
     "output_type": "stream",
     "text": [
      "**this is the first line\n",
      "**and this is the second\n",
      "**and this is the third!\n"
     ]
    }
   ],
   "source": [
    "!cat myfile.txt"
   ]
  },
  {
   "cell_type": "markdown",
   "metadata": {},
   "source": [
    "# Exercise: Dict to config\n",
    "\n",
    "1. Define a simple dictionary with 3-5 key-value pairs.\n",
    "2. Write the dict's key-value pairs to a text file, with one pair per line and the `=` between the two.\n",
    "\n",
    "If my dict is\n",
    "\n",
    "    {'a':10, 'b':20, 'c':30, 'd':40, 'e':50}\n",
    "\n",
    "the file should look like\n",
    "\n",
    "    a=10\n",
    "    b=20\n",
    "    c=30\n",
    "    d=40\n",
    "    e=50\n"
   ]
  },
  {
   "cell_type": "code",
   "execution_count": 96,
   "metadata": {},
   "outputs": [],
   "source": [
    "d = {'a':10, 'b':20, 'c':30, 'd':40, 'e':50}\n",
    "\n",
    "with open('config.txt', 'w') as f:     # open the file for writing, and guarantee flush+close\n",
    "    for key, value in d.items():       # iterate over the dict, one key-value pair at a time\n",
    "        f.write(f'{key}={value}\\n')    # write the current key-value pair to to file"
   ]
  },
  {
   "cell_type": "code",
   "execution_count": 97,
   "metadata": {},
   "outputs": [
    {
     "name": "stdout",
     "output_type": "stream",
     "text": [
      "a=10\n",
      "b=20\n",
      "c=30\n",
      "d=40\n",
      "e=50\n"
     ]
    }
   ],
   "source": [
    "!cat config.txt"
   ]
  },
  {
   "cell_type": "markdown",
   "metadata": {},
   "source": [
    "# When do we write to a file?\n",
    "\n",
    "1. Logging\n",
    "2. Writing dynamic configurations\n",
    "3. Write a Git configuration for each new course I offer"
   ]
  },
  {
   "cell_type": "markdown",
   "metadata": {},
   "source": [
    "# What about `with` and reading from files?\n",
    "\n",
    "Whenever I demonstrate reading from files in a blog/article/YouTube video, I make sure to use `with` for reading, not just for writing. That's because I will otherwise get hate mail! \n",
    "\n",
    "We can use `with` when reading from files. I don't think it's very necessary, but it's not a *bad* thing."
   ]
  },
  {
   "cell_type": "code",
   "execution_count": 99,
   "metadata": {},
   "outputs": [
    {
     "name": "stdout",
     "output_type": "stream",
     "text": [
      "3 16 3 76 71 18 2 70 18 3 59 50 54 72 62 64 70 61 71 70 70 72 56 66 62 67 52 63 60 69 58 50 50 54 66 67 59 63 64 61 62 61 62 61 55 55 74 53 65 65 55 56 50 56 88 66 61 70 81 65 62 56 75 65 54 64 75 72 85 72 67 53 55 69 77 74 94 85 97 73 84 68 71 70 63 55 82 74 64 66 76 55 78 80 56 63 82 76 63 55 69 61 99 73 55 63 79 100 57 83 62 77 104 55 67 92 89 64 62 51 76 74 75 84 52 80 77 85 62 78 82 73 77 76 75 97 104 69 77 53 "
     ]
    }
   ],
   "source": [
    "with open('/etc/passwd', 'r') as f:\n",
    "    for one_line in f:\n",
    "        print(len(one_line), end=' ')"
   ]
  },
  {
   "cell_type": "code",
   "execution_count": 101,
   "metadata": {},
   "outputs": [
    {
     "data": {
      "text/plain": [
       "True"
      ]
     },
     "execution_count": 101,
     "metadata": {},
     "output_type": "execute_result"
    }
   ],
   "source": [
    "f.closed"
   ]
  },
  {
   "cell_type": "code",
   "execution_count": 102,
   "metadata": {},
   "outputs": [
    {
     "ename": "SyntaxError",
     "evalue": "invalid syntax (110120771.py, line 3)",
     "output_type": "error",
     "traceback": [
      "\u001b[0;36m  Cell \u001b[0;32mIn[102], line 3\u001b[0;36m\u001b[0m\n\u001b[0;31m    f = open('myfile.txt', 'w') as f:\u001b[0m\n\u001b[0m                                ^\u001b[0m\n\u001b[0;31mSyntaxError\u001b[0m\u001b[0;31m:\u001b[0m invalid syntax\n"
     ]
    }
   ],
   "source": [
    "# .. says: I opened the file for writing like this:\n",
    "\n",
    "f = open('myfile.txt', 'w') as f:\n",
    "\n",
    "# \"as\" is an assignment operator, assigning a value to a variable\n",
    "# you can only use it in some cases, such as in `with` So the following two lines are\n",
    "# mostly identical:\n",
    "\n",
    "f = open('myfile.txt', 'w')\n",
    "\n",
    "with open('myfile.txt', 'w') as f:\n",
    "\n",
    "# however, after the \"with\" block, f will be flushed + closed    \n"
   ]
  },
  {
   "cell_type": "markdown",
   "metadata": {},
   "source": [
    "# Next time\n",
    "\n",
    "- Functions\n",
    "- Writing them\n",
    "- Invoking them\n",
    "- Arguments and parameters\n",
    "- Return values"
   ]
  },
  {
   "cell_type": "code",
   "execution_count": null,
   "metadata": {},
   "outputs": [],
   "source": []
  }
 ],
 "metadata": {
  "kernelspec": {
   "display_name": "Python 3 (ipykernel)",
   "language": "python",
   "name": "python3"
  },
  "language_info": {
   "codemirror_mode": {
    "name": "ipython",
    "version": 3
   },
   "file_extension": ".py",
   "mimetype": "text/x-python",
   "name": "python",
   "nbconvert_exporter": "python",
   "pygments_lexer": "ipython3",
   "version": "3.13.5"
  },
  "widgets": {
   "application/vnd.jupyter.widget-state+json": {
    "state": {},
    "version_major": 2,
    "version_minor": 0
   }
  }
 },
 "nbformat": 4,
 "nbformat_minor": 4
}
